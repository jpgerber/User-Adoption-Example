{
 "cells": [
  {
   "cell_type": "markdown",
   "metadata": {},
   "source": [
    "# User adoption analysis\n",
    "This project examines factors associated with user adoption of a project management tool.\n",
    "\n",
    "The analysis has two main tasks:\n",
    "1. Identify adopted users by wrangling a user login file.\n",
    "2. Extracting features associated with user via supervised learning.\n",
    "\n",
    "I also included an exploratory data analysis (see Appendix A)."
   ]
  },
  {
   "cell_type": "markdown",
   "metadata": {},
   "source": [
    "### Initial import and inspection of data files\n"
   ]
  },
  {
   "cell_type": "code",
   "execution_count": 48,
   "metadata": {},
   "outputs": [],
   "source": [
    "import warnings \n",
    "warnings.simplefilter('ignore')\n",
    "\n",
    "# Importing basic packages used\n",
    "import numpy as np\n",
    "import pandas as pd\n",
    "import datetime as dt\n",
    "import matplotlib.pyplot as plt\n",
    "import seaborn as sns"
   ]
  },
  {
   "cell_type": "markdown",
   "metadata": {},
   "source": [
    "Two data files were given for the analysis, one of user engagement (a list of time-stamped logins), and one of user features. Both are loaded below.\n",
    "##### User engagement data\n",
    "\n",
    "We loaded the engagement data into a dataframe and found 8823 users with 207917 total logins."
   ]
  },
  {
   "cell_type": "code",
   "execution_count": 2,
   "metadata": {},
   "outputs": [
    {
     "name": "stdout",
     "output_type": "stream",
     "text": [
      "   user_id  visited date_visited\n",
      "0        1        1   2014-04-22\n",
      "1        2        1   2013-11-15\n",
      "2        2        1   2013-11-29\n",
      "3        2        1   2013-12-09\n",
      "4        2        1   2013-12-25\n",
      "There were 8823 users and 207917 total logins\n"
     ]
    }
   ],
   "source": [
    "# Import the file\n",
    "df_engagement = pd.read_csv('takehome_user_engagement.csv')\n",
    "\n",
    "# Convert date and drop old timestamp column\n",
    "df_engagement['date_visited'] = pd.to_datetime(df_engagement['time_stamp'], format='%Y-%m-%d %H:%M:%S').dt.date\n",
    "df_engagement = df_engagement.drop('time_stamp', axis=1)\n",
    "\n",
    "# Print out head and basic info on user logins\n",
    "print(df_engagement.head())\n",
    "print('There were {} users and {} total logins'.format(df_engagement['user_id'].nunique(), len(df_engagement)))"
   ]
  },
  {
   "cell_type": "markdown",
   "metadata": {},
   "source": [
    "##### User features data\n",
    "\n",
    "The user features datafile indicated 12,000 user profiles had been created."
   ]
  },
  {
   "cell_type": "code",
   "execution_count": 3,
   "metadata": {},
   "outputs": [
    {
     "data": {
      "text/html": [
       "<div>\n",
       "<style scoped>\n",
       "    .dataframe tbody tr th:only-of-type {\n",
       "        vertical-align: middle;\n",
       "    }\n",
       "\n",
       "    .dataframe tbody tr th {\n",
       "        vertical-align: top;\n",
       "    }\n",
       "\n",
       "    .dataframe thead th {\n",
       "        text-align: right;\n",
       "    }\n",
       "</style>\n",
       "<table border=\"1\" class=\"dataframe\">\n",
       "  <thead>\n",
       "    <tr style=\"text-align: right;\">\n",
       "      <th></th>\n",
       "      <th>object_id</th>\n",
       "      <th>email</th>\n",
       "      <th>creation_source</th>\n",
       "      <th>opted_in_to_mailing_list</th>\n",
       "      <th>enabled_for_marketing_drip</th>\n",
       "      <th>org_id</th>\n",
       "      <th>invited_by_user_id</th>\n",
       "      <th>creation_date</th>\n",
       "      <th>last_session_date</th>\n",
       "    </tr>\n",
       "  </thead>\n",
       "  <tbody>\n",
       "    <tr>\n",
       "      <th>0</th>\n",
       "      <td>1</td>\n",
       "      <td>AugustCClausen@yahoo.com</td>\n",
       "      <td>GUEST_INVITE</td>\n",
       "      <td>1</td>\n",
       "      <td>0</td>\n",
       "      <td>11</td>\n",
       "      <td>10803.0</td>\n",
       "      <td>2014-04-22</td>\n",
       "      <td>2014-04-22</td>\n",
       "    </tr>\n",
       "    <tr>\n",
       "      <th>1</th>\n",
       "      <td>2</td>\n",
       "      <td>MatthewPoole@gustr.com</td>\n",
       "      <td>ORG_INVITE</td>\n",
       "      <td>0</td>\n",
       "      <td>0</td>\n",
       "      <td>1</td>\n",
       "      <td>316.0</td>\n",
       "      <td>2013-11-15</td>\n",
       "      <td>2014-03-31</td>\n",
       "    </tr>\n",
       "    <tr>\n",
       "      <th>2</th>\n",
       "      <td>3</td>\n",
       "      <td>MitchellBottrill@gustr.com</td>\n",
       "      <td>ORG_INVITE</td>\n",
       "      <td>0</td>\n",
       "      <td>0</td>\n",
       "      <td>94</td>\n",
       "      <td>1525.0</td>\n",
       "      <td>2013-03-19</td>\n",
       "      <td>2013-03-19</td>\n",
       "    </tr>\n",
       "    <tr>\n",
       "      <th>3</th>\n",
       "      <td>4</td>\n",
       "      <td>NicklasSClausen@yahoo.com</td>\n",
       "      <td>GUEST_INVITE</td>\n",
       "      <td>0</td>\n",
       "      <td>0</td>\n",
       "      <td>1</td>\n",
       "      <td>5151.0</td>\n",
       "      <td>2013-05-21</td>\n",
       "      <td>2013-05-22</td>\n",
       "    </tr>\n",
       "    <tr>\n",
       "      <th>4</th>\n",
       "      <td>5</td>\n",
       "      <td>GraceRaw@yahoo.com</td>\n",
       "      <td>GUEST_INVITE</td>\n",
       "      <td>0</td>\n",
       "      <td>0</td>\n",
       "      <td>193</td>\n",
       "      <td>5240.0</td>\n",
       "      <td>2013-01-17</td>\n",
       "      <td>2013-01-22</td>\n",
       "    </tr>\n",
       "  </tbody>\n",
       "</table>\n",
       "</div>"
      ],
      "text/plain": [
       "   object_id                       email creation_source  \\\n",
       "0          1    AugustCClausen@yahoo.com    GUEST_INVITE   \n",
       "1          2      MatthewPoole@gustr.com      ORG_INVITE   \n",
       "2          3  MitchellBottrill@gustr.com      ORG_INVITE   \n",
       "3          4   NicklasSClausen@yahoo.com    GUEST_INVITE   \n",
       "4          5          GraceRaw@yahoo.com    GUEST_INVITE   \n",
       "\n",
       "   opted_in_to_mailing_list  enabled_for_marketing_drip  org_id  \\\n",
       "0                         1                           0      11   \n",
       "1                         0                           0       1   \n",
       "2                         0                           0      94   \n",
       "3                         0                           0       1   \n",
       "4                         0                           0     193   \n",
       "\n",
       "   invited_by_user_id creation_date last_session_date  \n",
       "0             10803.0    2014-04-22        2014-04-22  \n",
       "1               316.0    2013-11-15        2014-03-31  \n",
       "2              1525.0    2013-03-19        2013-03-19  \n",
       "3              5151.0    2013-05-21        2013-05-22  \n",
       "4              5240.0    2013-01-17        2013-01-22  "
      ]
     },
     "execution_count": 3,
     "metadata": {},
     "output_type": "execute_result"
    }
   ],
   "source": [
    "# Choose the columns to import from the csv\n",
    "cols = ['object_id', 'creation_time', 'creation_source', 'last_session_creation_time', \n",
    "        'opted_in_to_mailing_list','enabled_for_marketing_drip', 'org_id', 'invited_by_user_id', 'email']\n",
    "\n",
    "# Import the data\n",
    "df_profiles = pd.read_csv('takehome_users.csv', encoding='latin', usecols=cols)\n",
    "# Convert the creation time column into a date, company definitions run by day\n",
    "df_profiles['creation_date'] = pd.to_datetime(df_profiles['creation_time'], format='%Y-%m-%d %H:%M:%S').dt.date\n",
    "df_profiles = df_profiles.drop('creation_time', axis=1)\n",
    "# Convert the last session time to a date, company definition runs by day\n",
    "df_profiles['last_session_date'] = pd.to_datetime(df_profiles.last_session_creation_time, unit='s').dt.date\n",
    "df_profiles = df_profiles.drop('last_session_creation_time', axis=1)\n",
    "df_profiles.head()"
   ]
  },
  {
   "cell_type": "markdown",
   "metadata": {},
   "source": [
    "##### Checking file consistency\n",
    "There were 12,000 users in the profiles data but only 8,823 in the engagement file, a discrepancy worth understanding, if only as a sanity check. Joining the two datasets gave the desired 8,823 rows, which shows that the extra rows in the profiles dataset were of those who signed up but never logged in."
   ]
  },
  {
   "cell_type": "code",
   "execution_count": 4,
   "metadata": {},
   "outputs": [
    {
     "name": "stdout",
     "output_type": "stream",
     "text": [
      "Merging both files gave 8823 matched rows\n"
     ]
    }
   ],
   "source": [
    "# Create a df of ids from the user login data\n",
    "ids_engagement = df_engagement.groupby('user_id').sum().reset_index()\n",
    "# Check those ids match the user profiles data\n",
    "merged_sanity_check = pd.merge(ids_engagement, df_profiles, left_on='user_id', right_on='object_id')\n",
    "print('Merging both files gave {} matched rows'.format(merged_sanity_check.shape[0]))"
   ]
  },
  {
   "cell_type": "markdown",
   "metadata": {},
   "source": [
    "## 1. Identifying adopted users\n",
    "Adopted users are defined as those who logged in on at least three separate days within any 7-day window.\n",
    "The user login data showed <b>1,656 adopted users</b> out of 8,823 total users. 19% of users are adopted users."
   ]
  },
  {
   "cell_type": "code",
   "execution_count": 5,
   "metadata": {},
   "outputs": [
    {
     "name": "stdout",
     "output_type": "stream",
     "text": [
      "There were 1656 adopted users out of 8823 users\n",
      "18.769126% of users were adopted users\n"
     ]
    }
   ],
   "source": [
    "# define a function to see if a user logged in 3 or more separate days in a week\n",
    "def logins_in_days(df, days=7, logins=3):\n",
    "    from datetime import timedelta\n",
    "    # first drop duplicate days and sort by date\n",
    "    df = df.drop_duplicates(subset='date_visited').sort_values('date_visited')\n",
    "    # calculate how many days has passed for every 3 logins\n",
    "    passed_days = df['date_visited'].diff(periods=logins-1)\n",
    "    # check if any passed time is less than 7 days\n",
    "    return any(passed_days <= timedelta(days=days))\n",
    "\n",
    "# run the function on all users\n",
    "adopted = df_engagement.groupby('user_id').apply(logins_in_days)\n",
    "adopted.name = 'adopted_user'\n",
    "\n",
    "print('There were {} adopted users out of {} users'.format(sum(adopted), len(adopted)))\n",
    "print('{:1%} of users were adopted users'.format(    sum(adopted)/ len(adopted)))\n"
   ]
  },
  {
   "cell_type": "markdown",
   "metadata": {},
   "source": [
    "## 2. Features associated with being an adopted user\n",
    "\n",
    "Management want to know what might predict a <u><i>future</i> adopted user</u>. As such, data leakage is a key machine learning issue. In this instance, leakage would occur when we use some proxy for adopted user status as a predictor in any model. Because adopted user status is based on user history over time, we should not be using predictors that include any information about usage over time in our models. We want to predict future adopted users, not just use information on their usage history to predict their current user status.\n",
    "\n",
    "Another way to put this is that it is trivially true that people who have used our platform a long time (and those who have logged in recently) are adopted users. But a long-history is not a causal factor for user adoption, it is simply definitional ('someone with a long usage history IS an adopted user'), and will not help us to predict future users.\n",
    "\n",
    "#### 2.0 Merging the adoption status into the features file"
   ]
  },
  {
   "cell_type": "code",
   "execution_count": 20,
   "metadata": {},
   "outputs": [],
   "source": [
    "# Merge the adopted users into the user profile data\n",
    "df = pd.merge(adopted.reset_index(), df_profiles, left_on='user_id', right_on='object_id').drop('object_id', axis=1).set_index('user_id')\n",
    "df.adopted_user = df.adopted_user.astype(int)"
   ]
  },
  {
   "cell_type": "markdown",
   "metadata": {},
   "source": [
    "#### 2.1 Removing censored cases\n",
    "\n",
    "Before doing the machine learning, we first needed to remove any censored cases (users whose adoption status might be unknown). For example, we would not know whether someone who joined the platform one week before the end of our data logins collection would later become an adopted user. BUT, our procedure for calculating adopted users meant such people were coded as 'not adopted users'. This error introduces noise into our outcome variable. So we needed to remove those.\n",
    "\n",
    "In order to do so, we first examined how long it takes for someone to become an adopted user. \n",
    "It takes, on average, 50 days for users to become adopted users (see chart below), and this tended to come in three distinct spikes: one spike in the first week, a second group about a month in, and then a smaller group around two months in (see future analyses for further discussion of these spikes).\n",
    "\n",
    "As such, it made sense to remove accounts created in the last 50 days. There were 932 users with accounts created in the last 50 days (10.5% of all accounts), removing these left 7,891 data points for prediction."
   ]
  },
  {
   "cell_type": "code",
   "execution_count": 21,
   "metadata": {},
   "outputs": [],
   "source": [
    "# Making the date of adoption function and then applying it to the dataframe\n",
    "def first_adoption3(df):\n",
    "    ''' This function takes a dataframe and column name, latter in quotes,\n",
    "    and returns the date a user first adopted a program. First adoption\n",
    "    is defined as three or more days of logging in over a week.'''\n",
    "    from datetime import timedelta\n",
    "    df = df.reset_index()\n",
    "    for i in range(len(df)-2):\n",
    "        if df.loc[i+2, 'date_visited'] - df.loc[i, 'date_visited'] <= timedelta(days=7):\n",
    "            return (df.loc[i+2, 'date_visited'])\n",
    "            break\n",
    "            \n",
    "df['adoption_date'] = df_engagement.groupby('user_id').apply(first_adoption3)"
   ]
  },
  {
   "cell_type": "code",
   "execution_count": 22,
   "metadata": {},
   "outputs": [
    {
     "data": {
      "image/png": "[encoded data removed]",
      "text/plain": [
       "<Figure size 640x480 with 1 Axes>"
      ]
     },
     "metadata": {},
     "output_type": "display_data"
    },
    {
     "name": "stdout",
     "output_type": "stream",
     "text": [
      "The average time it takes to adopt the platform is 50 days\n"
     ]
    }
   ],
   "source": [
    "# Charting the time it takes for users to adopt the platform\n",
    "df['time_to_adopt'] = (df['adoption_date']-df['creation_date'])\n",
    "dtp = df.time_to_adopt.dt.days\n",
    "dtp.hist(bins=100)\n",
    "plt.title('How long it takes for people to become adopted users')\n",
    "plt.xlabel('Days from creation until adoption')\n",
    "plt.ylabel('Number of cases')\n",
    "plt.style.use('classic')\n",
    "plt.show()\n",
    "\n",
    "# Calculating the mean for adoption time\n",
    "print('The average time it takes to adopt the platform is {:.0f} days'.format(np.mean(df.time_to_adopt.dt.days)))"
   ]
  },
  {
   "cell_type": "code",
   "execution_count": 23,
   "metadata": {},
   "outputs": [
    {
     "name": "stdout",
     "output_type": "stream",
     "text": [
      "Most recent user created on 2014-05-30\n",
      "Last login recorded on 2014-06-06\n",
      "Users created after 2014-04-17 should be removed\n"
     ]
    }
   ],
   "source": [
    "print('Most recent user created on {}'.format(df.creation_date.max()))\n",
    "print('Last login recorded on {}'.format(df_engagement.date_visited.max()))\n",
    "print('Users created after {} should be removed'.format(df_engagement.date_visited.max() - dt.timedelta(50)))"
   ]
  },
  {
   "cell_type": "code",
   "execution_count": 26,
   "metadata": {},
   "outputs": [
    {
     "name": "stdout",
     "output_type": "stream",
     "text": [
      "After removing the censored points, there were 7891 cases left.\n",
      "After cleaning, 20.985933% of cases were adopted users\n"
     ]
    }
   ],
   "source": [
    "# Make the data frame without censored cases\n",
    "df = df[df.creation_date <= df_engagement.date_visited.max() - dt.timedelta(50)]\n",
    "print('After removing the censored points, there were {} cases left.'.format(df.shape[0]))\n",
    "print('After cleaning, {:1%} of cases were adopted users'.format(sum(adopted)/ len(df.creation_date)))"
   ]
  },
  {
   "cell_type": "markdown",
   "metadata": {},
   "source": [
    "#### 2.1 Recoding & feature engineering\n",
    "\n",
    "Before running the machine learning, we explored and recoded variables where appropriate, as noted below. For further details on these analyses, see the appendix (which contains my EDA).\n",
    "1. Email provider. There were six main email providers with counts over 800, all others having 2 or less. The six main were kept, and the others were combined into one 'other' category.\n",
    "2. Invited by user. About 1/3 of users had no invite, and no user gave more than 13 invites. This variable was recoded into an indicator variable (0 for no invitation, 1 for an invitation).\n",
    "3. Organizational ID. There were 417 unique organizational IDs, and we have no further information on the nature, names or structure of these organizations. As such, we removed this ID from the machine learning model as it would be likely to cause issues with fitting and then still not be interpretable."
   ]
  },
  {
   "cell_type": "code",
   "execution_count": 27,
   "metadata": {},
   "outputs": [],
   "source": [
    "# Recode emails\n",
    "df['email_provider'] = [x.split('@')[1] for x in df.email] #select out the domain\n",
    "#df.email_provider.value_counts() # this shows that there are six main providers\n",
    "top_emails = df.email_provider.value_counts().index[:6]\n",
    "\n",
    "#label anything not in the top 6 as other\n",
    "df['email_provider'] = [x if x in top_emails else 'other' for x in df.email_provider]"
   ]
  },
  {
   "cell_type": "code",
   "execution_count": 28,
   "metadata": {},
   "outputs": [],
   "source": [
    "# Recoding invited_by_user_id into an indicator variable\n",
    "df['invited_by_user_ind'] = df['invited_by_user_id'] > 0\n",
    "df['invited_by_user_ind'] = df['invited_by_user_ind'].astype(int)"
   ]
  },
  {
   "cell_type": "code",
   "execution_count": 29,
   "metadata": {},
   "outputs": [
    {
     "data": {
      "text/html": [
       "<div>\n",
       "<style scoped>\n",
       "    .dataframe tbody tr th:only-of-type {\n",
       "        vertical-align: middle;\n",
       "    }\n",
       "\n",
       "    .dataframe tbody tr th {\n",
       "        vertical-align: top;\n",
       "    }\n",
       "\n",
       "    .dataframe thead th {\n",
       "        text-align: right;\n",
       "    }\n",
       "</style>\n",
       "<table border=\"1\" class=\"dataframe\">\n",
       "  <thead>\n",
       "    <tr style=\"text-align: right;\">\n",
       "      <th></th>\n",
       "      <th>adopted_user</th>\n",
       "      <th>email</th>\n",
       "      <th>creation_source</th>\n",
       "      <th>opted_in_to_mailing_list</th>\n",
       "      <th>enabled_for_marketing_drip</th>\n",
       "      <th>org_id</th>\n",
       "      <th>invited_by_user_id</th>\n",
       "      <th>creation_date</th>\n",
       "      <th>last_session_date</th>\n",
       "      <th>adoption_date</th>\n",
       "      <th>time_to_adopt</th>\n",
       "      <th>email_provider</th>\n",
       "      <th>invited_by_user_ind</th>\n",
       "    </tr>\n",
       "    <tr>\n",
       "      <th>user_id</th>\n",
       "      <th></th>\n",
       "      <th></th>\n",
       "      <th></th>\n",
       "      <th></th>\n",
       "      <th></th>\n",
       "      <th></th>\n",
       "      <th></th>\n",
       "      <th></th>\n",
       "      <th></th>\n",
       "      <th></th>\n",
       "      <th></th>\n",
       "      <th></th>\n",
       "      <th></th>\n",
       "    </tr>\n",
       "  </thead>\n",
       "  <tbody>\n",
       "    <tr>\n",
       "      <th>2</th>\n",
       "      <td>1</td>\n",
       "      <td>MatthewPoole@gustr.com</td>\n",
       "      <td>ORG_INVITE</td>\n",
       "      <td>0</td>\n",
       "      <td>0</td>\n",
       "      <td>1</td>\n",
       "      <td>316.0</td>\n",
       "      <td>2013-11-15</td>\n",
       "      <td>2014-03-31</td>\n",
       "      <td>2014-02-09</td>\n",
       "      <td>86 days</td>\n",
       "      <td>gustr.com</td>\n",
       "      <td>1</td>\n",
       "    </tr>\n",
       "    <tr>\n",
       "      <th>3</th>\n",
       "      <td>0</td>\n",
       "      <td>MitchellBottrill@gustr.com</td>\n",
       "      <td>ORG_INVITE</td>\n",
       "      <td>0</td>\n",
       "      <td>0</td>\n",
       "      <td>94</td>\n",
       "      <td>1525.0</td>\n",
       "      <td>2013-03-19</td>\n",
       "      <td>2013-03-19</td>\n",
       "      <td>None</td>\n",
       "      <td>NaT</td>\n",
       "      <td>gustr.com</td>\n",
       "      <td>1</td>\n",
       "    </tr>\n",
       "    <tr>\n",
       "      <th>4</th>\n",
       "      <td>0</td>\n",
       "      <td>NicklasSClausen@yahoo.com</td>\n",
       "      <td>GUEST_INVITE</td>\n",
       "      <td>0</td>\n",
       "      <td>0</td>\n",
       "      <td>1</td>\n",
       "      <td>5151.0</td>\n",
       "      <td>2013-05-21</td>\n",
       "      <td>2013-05-22</td>\n",
       "      <td>None</td>\n",
       "      <td>NaT</td>\n",
       "      <td>yahoo.com</td>\n",
       "      <td>1</td>\n",
       "    </tr>\n",
       "    <tr>\n",
       "      <th>5</th>\n",
       "      <td>0</td>\n",
       "      <td>GraceRaw@yahoo.com</td>\n",
       "      <td>GUEST_INVITE</td>\n",
       "      <td>0</td>\n",
       "      <td>0</td>\n",
       "      <td>193</td>\n",
       "      <td>5240.0</td>\n",
       "      <td>2013-01-17</td>\n",
       "      <td>2013-01-22</td>\n",
       "      <td>None</td>\n",
       "      <td>NaT</td>\n",
       "      <td>yahoo.com</td>\n",
       "      <td>1</td>\n",
       "    </tr>\n",
       "    <tr>\n",
       "      <th>6</th>\n",
       "      <td>0</td>\n",
       "      <td>EduardoPereiraCunha@yahoo.com</td>\n",
       "      <td>GUEST_INVITE</td>\n",
       "      <td>0</td>\n",
       "      <td>0</td>\n",
       "      <td>197</td>\n",
       "      <td>11241.0</td>\n",
       "      <td>2013-12-17</td>\n",
       "      <td>2013-12-19</td>\n",
       "      <td>None</td>\n",
       "      <td>NaT</td>\n",
       "      <td>yahoo.com</td>\n",
       "      <td>1</td>\n",
       "    </tr>\n",
       "  </tbody>\n",
       "</table>\n",
       "</div>"
      ],
      "text/plain": [
       "         adopted_user                          email creation_source  \\\n",
       "user_id                                                                \n",
       "2                   1         MatthewPoole@gustr.com      ORG_INVITE   \n",
       "3                   0     MitchellBottrill@gustr.com      ORG_INVITE   \n",
       "4                   0      NicklasSClausen@yahoo.com    GUEST_INVITE   \n",
       "5                   0             GraceRaw@yahoo.com    GUEST_INVITE   \n",
       "6                   0  EduardoPereiraCunha@yahoo.com    GUEST_INVITE   \n",
       "\n",
       "         opted_in_to_mailing_list  enabled_for_marketing_drip  org_id  \\\n",
       "user_id                                                                 \n",
       "2                               0                           0       1   \n",
       "3                               0                           0      94   \n",
       "4                               0                           0       1   \n",
       "5                               0                           0     193   \n",
       "6                               0                           0     197   \n",
       "\n",
       "         invited_by_user_id creation_date last_session_date adoption_date  \\\n",
       "user_id                                                                     \n",
       "2                     316.0    2013-11-15        2014-03-31    2014-02-09   \n",
       "3                    1525.0    2013-03-19        2013-03-19          None   \n",
       "4                    5151.0    2013-05-21        2013-05-22          None   \n",
       "5                    5240.0    2013-01-17        2013-01-22          None   \n",
       "6                   11241.0    2013-12-17        2013-12-19          None   \n",
       "\n",
       "        time_to_adopt email_provider  invited_by_user_ind  \n",
       "user_id                                                    \n",
       "2             86 days      gustr.com                    1  \n",
       "3                 NaT      gustr.com                    1  \n",
       "4                 NaT      yahoo.com                    1  \n",
       "5                 NaT      yahoo.com                    1  \n",
       "6                 NaT      yahoo.com                    1  "
      ]
     },
     "execution_count": 29,
     "metadata": {},
     "output_type": "execute_result"
    }
   ],
   "source": [
    "df.head()"
   ]
  },
  {
   "cell_type": "code",
   "execution_count": 30,
   "metadata": {},
   "outputs": [],
   "source": [
    "# Invitation inspection\n",
    "#df.invited_by_user_id.fillna(0).value_counts()\n",
    "# Org ID inspection\n",
    "#df.org_id.value_counts()"
   ]
  },
  {
   "cell_type": "markdown",
   "metadata": {},
   "source": [
    "#### 2.2 Feature selection\n",
    "The problem of leakage seems large in this dataset. Specifically, our outcome variable is based on login dates, and hence these are associated with such variables as creation date and last session date. To include date-based variables in our model would, in this instance, inflate the accuracy of our model. Another way to put it is that we want to predict <b>future</b> adopted users, so putting in current usage data (e.g. last login) would not help us in our future prediction.\n",
    "As such, we did not include creation date or last login date as predictors.\n",
    "\n",
    "<b>This left us with 5 predictors:</b>\n",
    "1. Creation source.\n",
    "2. Mailing list opt-in\n",
    "3. Marketing drip\n",
    "4. Email type\n",
    "5. Invitation by user\n",
    "\n",
    "Creation source and email type were given dummy variables."
   ]
  },
  {
   "cell_type": "code",
   "execution_count": 31,
   "metadata": {},
   "outputs": [],
   "source": [
    "df.email_provider = df.email_provider.astype('category')\n",
    "df.creation_source = df.creation_source.astype('category')"
   ]
  },
  {
   "cell_type": "markdown",
   "metadata": {},
   "source": [
    "#### 2.3 Fittting the random forest model.\n",
    "\n",
    "The machine learning approach we used is outlined below:\n",
    "1. Algorithm chosen: random forest, because it handles categorical variables and interactions easily\n",
    "2. Pre-processing: all variables were categorical, and those with more than two categories were one-hot encoded\n",
    "3. Class imbalance was addressed by balancing in the random forest algorithm\n",
    "4. Evaluation was via accuracy on the test set.\n",
    "5. Feature importance was assessed via a permutation test, which is less biased in the presence of multi-category variables (as for creation source and email provider).\n",
    "6. Cross-validation was conducted to tune the number of trees.\n",
    "\n",
    "The machine learning model is instantiated and fit below.\n",
    "\n",
    "All variables were categorical, and those with more than two categories were one-hot encoded."
   ]
  },
  {
   "cell_type": "code",
   "execution_count": 32,
   "metadata": {},
   "outputs": [
    {
     "data": {
      "text/html": [
       "<div>\n",
       "<style scoped>\n",
       "    .dataframe tbody tr th:only-of-type {\n",
       "        vertical-align: middle;\n",
       "    }\n",
       "\n",
       "    .dataframe tbody tr th {\n",
       "        vertical-align: top;\n",
       "    }\n",
       "\n",
       "    .dataframe thead th {\n",
       "        text-align: right;\n",
       "    }\n",
       "</style>\n",
       "<table border=\"1\" class=\"dataframe\">\n",
       "  <thead>\n",
       "    <tr style=\"text-align: right;\">\n",
       "      <th></th>\n",
       "      <th>invited_by_user_ind</th>\n",
       "      <th>enabled_for_marketing_drip</th>\n",
       "      <th>opted_in_to_mailing_list</th>\n",
       "      <th>creation_source</th>\n",
       "      <th>email_provider</th>\n",
       "    </tr>\n",
       "    <tr>\n",
       "      <th>user_id</th>\n",
       "      <th></th>\n",
       "      <th></th>\n",
       "      <th></th>\n",
       "      <th></th>\n",
       "      <th></th>\n",
       "    </tr>\n",
       "  </thead>\n",
       "  <tbody>\n",
       "    <tr>\n",
       "      <th>2</th>\n",
       "      <td>1</td>\n",
       "      <td>0</td>\n",
       "      <td>0</td>\n",
       "      <td>ORG_INVITE</td>\n",
       "      <td>gustr.com</td>\n",
       "    </tr>\n",
       "    <tr>\n",
       "      <th>3</th>\n",
       "      <td>1</td>\n",
       "      <td>0</td>\n",
       "      <td>0</td>\n",
       "      <td>ORG_INVITE</td>\n",
       "      <td>gustr.com</td>\n",
       "    </tr>\n",
       "    <tr>\n",
       "      <th>4</th>\n",
       "      <td>1</td>\n",
       "      <td>0</td>\n",
       "      <td>0</td>\n",
       "      <td>GUEST_INVITE</td>\n",
       "      <td>yahoo.com</td>\n",
       "    </tr>\n",
       "    <tr>\n",
       "      <th>5</th>\n",
       "      <td>1</td>\n",
       "      <td>0</td>\n",
       "      <td>0</td>\n",
       "      <td>GUEST_INVITE</td>\n",
       "      <td>yahoo.com</td>\n",
       "    </tr>\n",
       "    <tr>\n",
       "      <th>6</th>\n",
       "      <td>1</td>\n",
       "      <td>0</td>\n",
       "      <td>0</td>\n",
       "      <td>GUEST_INVITE</td>\n",
       "      <td>yahoo.com</td>\n",
       "    </tr>\n",
       "  </tbody>\n",
       "</table>\n",
       "</div>"
      ],
      "text/plain": [
       "         invited_by_user_ind  enabled_for_marketing_drip  \\\n",
       "user_id                                                    \n",
       "2                          1                           0   \n",
       "3                          1                           0   \n",
       "4                          1                           0   \n",
       "5                          1                           0   \n",
       "6                          1                           0   \n",
       "\n",
       "         opted_in_to_mailing_list creation_source email_provider  \n",
       "user_id                                                           \n",
       "2                               0      ORG_INVITE      gustr.com  \n",
       "3                               0      ORG_INVITE      gustr.com  \n",
       "4                               0    GUEST_INVITE      yahoo.com  \n",
       "5                               0    GUEST_INVITE      yahoo.com  \n",
       "6                               0    GUEST_INVITE      yahoo.com  "
      ]
     },
     "execution_count": 32,
     "metadata": {},
     "output_type": "execute_result"
    }
   ],
   "source": [
    "X = df[['invited_by_user_ind', 'enabled_for_marketing_drip', \n",
    "        'opted_in_to_mailing_list', 'creation_source',\n",
    "        'email_provider']]\n",
    "y = df[['adopted_user']]\n",
    "X.head()"
   ]
  },
  {
   "cell_type": "code",
   "execution_count": 64,
   "metadata": {},
   "outputs": [
    {
     "name": "stdout",
     "output_type": "stream",
     "text": [
      "features and predictors have same shape: True\n",
      "features and predictors in TRAINING set have same shape: True\n",
      "features and predictors in TEST set have same shape: True\n",
      "Best parameters were {'clf__n_estimators': 5}\n"
     ]
    }
   ],
   "source": [
    "# Check the shapes are the same\n",
    "print('features and predictors have same shape: {}'.format(X.shape[0] == y.shape[0]))\n",
    "\n",
    "# Import modules\n",
    "from sklearn.model_selection import train_test_split\n",
    "from sklearn.pipeline import Pipeline\n",
    "from sklearn.preprocessing import OneHotEncoder\n",
    "from sklearn.compose import ColumnTransformer\n",
    "from sklearn.ensemble import RandomForestClassifier\n",
    "from sklearn.model_selection import GridSearchCV\n",
    "from sklearn.metrics import classification_report, accuracy_score\n",
    "from sklearn.inspection import permutation_importance\n",
    "# Split data sets first\n",
    "\n",
    "Xtrain, Xtest, ytrain, ytest = train_test_split(X, y, stratify=y, random_state=42)\n",
    "print('features and predictors in TRAINING set have same shape: {}'.format(Xtrain.shape[0] == ytrain.shape[0]))\n",
    "print('features and predictors in TEST set have same shape: {}'.format(Xtest.shape[0] == ytest.shape[0]))     \n",
    "\n",
    "# Pre-processing the columns\n",
    "#cat_pipe = Pipeline(('ohe', OneHotEncoder(sparse=False, handle_unknown='ignore')), # Set up the ohe\n",
    "mult_cat_cols = ['email_provider', 'creation_source'] # Select multiple category columns\n",
    "binary_cols = ['invited_by_user_ind', 'enabled_for_marketing_drip', 'opted_in_to_mailing_list']\n",
    "#cat_transformers = [('cat', cat_pipe, cat_cols)] # Make transformer step\n",
    "ct = ColumnTransformer([('ohe', OneHotEncoder(sparse=False, handle_unknown='ignore'), mult_cat_cols),\n",
    "                      ('binary', 'passthrough', binary_cols)]) # Make column transformer\n",
    "\n",
    "\n",
    "# Make a pipeline with the column pre-processing and the RF\n",
    "rf = Pipeline([\n",
    "    ('preprocess', ct),\n",
    "    ('clf', RandomForestClassifier(random_state=42, class_weight='balanced'))\n",
    "])\n",
    "\n",
    "\n",
    "# use cross-validation to tune number of trees\n",
    "params = {'clf__n_estimators': [1, 2, 5, 10, 50, 100, 200]}\n",
    "model = GridSearchCV(rf, params)\n",
    "model.fit(Xtrain, ytrain)\n",
    "print('Best parameters were', model.best_params_)"
   ]
  },
  {
   "cell_type": "markdown",
   "metadata": {},
   "source": [
    "#### 2.4 Evaluation of the model\n",
    "The model was evaluted using a number of measures, in three basic classes: comparison of training and test samples, and a classification report\n",
    "\n",
    "##### 2.4.1 Comparison of test and training scores\n",
    "\n",
    "The training and test accuracy were very similar (~64%). Both were better than chance (50% given the balancing of classes). This suggests our model is informative and not overfitted."
   ]
  },
  {
   "cell_type": "code",
   "execution_count": 70,
   "metadata": {
    "scrolled": true
   },
   "outputs": [
    {
     "name": "stdout",
     "output_type": "stream",
     "text": [
      "Accuracy of test set was 64.27%\n",
      "Accuracy of training set was 64.31%\n"
     ]
    }
   ],
   "source": [
    "ypred = model.predict(Xtest) # make the predictions on the test set\n",
    "print('Accuracy of test set was {:.2%}'.format(accuracy_score(ytest, ypred)))\n",
    "ypred2 = model.predict(Xtrain)\n",
    "print('Accuracy of training set was {:.2%}'.format(accuracy_score(ytrain, ypred2)))"
   ]
  },
  {
   "cell_type": "markdown",
   "metadata": {},
   "source": [
    "##### 2.4.2 Classification report\n",
    "\n",
    "The classification report showed results typical of imbalanced classes.\n",
    "As stated above, overall accuracy (64%) was above chance but not excedingly impressive.\n",
    "<br> Given management's interest in predicting future adopted users, performance with respect to that class is perhaps most importance. 25% of predictions that a user was an adopted user were correct, and the model found 38% of the adopted users. This is to be expected given the imbalanced classes (<20% adopted users).\n",
    "<br> Of lesser interest is the model's performance for non-adopted users. The model was correct 82% of the time when it predicted a target was a non-adopted users, and it found 71% of that class."
   ]
  },
  {
   "cell_type": "code",
   "execution_count": 119,
   "metadata": {},
   "outputs": [
    {
     "name": "stdout",
     "output_type": "stream",
     "text": [
      "              precision    recall  f1-score   support\n",
      "\n",
      "           0       0.82      0.71      0.76      1567\n",
      "           1       0.25      0.38      0.31       406\n",
      "\n",
      "    accuracy                           0.64      1973\n",
      "   macro avg       0.54      0.55      0.53      1973\n",
      "weighted avg       0.70      0.64      0.67      1973\n",
      "\n"
     ]
    }
   ],
   "source": [
    "print(classification_report(ytest, ypred))"
   ]
  },
  {
   "cell_type": "markdown",
   "metadata": {},
   "source": [
    "#### 2.5 Feature importance\n",
    "Feature importance was assessed via a permutation test because it is unaffected by variables with different numbers of categories (i.e. creation source and email provider had multiple values).\n",
    "<br><b> The most important variables were creation source, an invitation from a current user, and email provider.</b>\n",
    "<br>Two creation sources, invitations and personal projects, had the most adopted users (see chart A.1, below)\n",
    "<br>An invitation from a current user increased likelihood of becoming an adopted user (see chart A.2, below)\n",
    "<br>Hotmail users were most likely to be adopted users (see chart A.3. below)"
   ]
  },
  {
   "cell_type": "code",
   "execution_count": 118,
   "metadata": {},
   "outputs": [
    {
     "data": {
      "image/png": "[encoded data removed]",
      "text/plain": [
       "<Figure size 432x288 with 1 Axes>"
      ]
     },
     "metadata": {
      "needs_background": "light"
     },
     "output_type": "display_data"
    }
   ],
   "source": [
    "# Evaluate feature importance via permutation test\n",
    "result = permutation_importance(model, Xtest, ytest, n_repeats=10,\n",
    "                                random_state=42, n_jobs=2)\n",
    "sorted_idx = result.importances_mean.argsort()\n",
    "\n",
    "fig, ax = plt.subplots()\n",
    "ax.boxplot(result.importances[sorted_idx].T,\n",
    "           vert=False, labels=Xtest.columns[sorted_idx])\n",
    "ax.set_title(\"Permutation Importances (test set)\")\n",
    "fig.tight_layout()\n",
    "plt.show()"
   ]
  },
  {
   "cell_type": "markdown",
   "metadata": {},
   "source": [
    "# Conclusions\n",
    "\n",
    "Overall, we learned the following from this analysis:\n",
    "1. It takes, on average, 50 days after account creation for someone to become an adopted user.\n",
    "2. Being invited and or personal hobby usage are the best predictors of adoption, with Hotmail users being another good target.\n",
    "3. The data allowed prediction at better than chance levels, but the imbalance in the non/adopted classes led to typical prediction problems.\n",
    "\n",
    "There are several warnings around this analysis, too:\n",
    "1.  The results do improve significantly if data leakage is allowed (by allowing date of adoption and recent usage to be predictors in the model), but this is not a helpful approach to take when trying to predict future users.\n",
    "2. Removing censored users matters.\n",
    "\n",
    "<br> <b>Ideas for followup analyses:</b> \n",
    "1. Future analyses could investigate predictors of the length of time until adoption, rather than adopting the somewhat arbitrary binary outcome given in the definition of adopted user. Adopted users become so after about 50 days, on average, but what speeds up and slows down that process?\n",
    "2. Does the day of week of signup or the month of the year have an effect on becoming an adopted user?"
   ]
  },
  {
   "cell_type": "markdown",
   "metadata": {},
   "source": [
    "## Appendix A. EDA\n",
    "\n",
    "Before conducting machine learning, each potential predictor was explored for its relationship with the outcome.\n",
    "\n",
    "##### A.1 Creation source. \n",
    "The number of adopted users differed by creation source (see graph below, $\\chi^2$ = 41.28, $p$ < .0005). Those signing up due to a guest invitation or a personal project appear to be more likely to be an adopted user. "
   ]
  },
  {
   "cell_type": "code",
   "execution_count": 149,
   "metadata": {},
   "outputs": [
    {
     "data": {
      "image/png": "[encoded data removed]",
      "text/plain": [
       "<Figure size 432x288 with 3 Axes>"
      ]
     },
     "metadata": {
      "needs_background": "light"
     },
     "output_type": "display_data"
    }
   ],
   "source": [
    "%matplotlib inline\n",
    "from statsmodels.graphics.mosaicplot import mosaic\n",
    "from scipy.stats import chi2_contingency\n",
    "ct = pd.crosstab(df['creation_source'], df['adopted_user'])\n",
    "ct.columns=['not on mailing list', 'on mailing list']\n",
    "_ = mosaic(ct.stack(), labelizer = lambda x: \"\", gap=[0.01, 0.005], label_rotation=90,\n",
    "       title='Proportion of creation source by adopted user status')\n",
    "plt.show()"
   ]
  },
  {
   "cell_type": "code",
   "execution_count": 121,
   "metadata": {
    "scrolled": true
   },
   "outputs": [
    {
     "name": "stdout",
     "output_type": "stream",
     "text": [
      "The χ-sq stat was 40.28 with p = 0.000000\n"
     ]
    }
   ],
   "source": [
    "chisq, p, dof, efs = chi2_contingency(ct)\n",
    "print('The \\u03C7-sq stat was {:.2f} with p = {:6f}'.format(chisq, p))"
   ]
  },
  {
   "cell_type": "markdown",
   "metadata": {},
   "source": [
    "##### A.2 Invitation by current user\n",
    "Being invited by a current user is associated with being an adopted user (see graph below, $\\chi^2$ = 6.36, $p$ =.01)"
   ]
  },
  {
   "cell_type": "code",
   "execution_count": 122,
   "metadata": {},
   "outputs": [
    {
     "data": {
      "image/png": "[encoded data removed]",
      "text/plain": [
       "<Figure size 432x288 with 3 Axes>"
      ]
     },
     "metadata": {
      "needs_background": "light"
     },
     "output_type": "display_data"
    }
   ],
   "source": [
    "%matplotlib inline\n",
    "ct = pd.crosstab(df['invited_by_user_ind'], df['adopted_user'])\n",
    "ct.columns = ['not user','adopted user']\n",
    "ct.index=['not invited', 'invited']\n",
    "mosaic(ct.stack(), labelizer = lambda x: \"\", gap=[0.01, 0.005],\n",
    "       title='Proportion of those invited by adopted user status')\n",
    "plt.show()"
   ]
  },
  {
   "cell_type": "code",
   "execution_count": 123,
   "metadata": {
    "scrolled": true
   },
   "outputs": [
    {
     "name": "stdout",
     "output_type": "stream",
     "text": [
      "The χ-sq statistic was 6.64 with p = 0.01\n"
     ]
    }
   ],
   "source": [
    "chisq, p, dof, efs = chi2_contingency(ct)\n",
    "print('The \\u03C7-sq statistic was {:.2f} with p = {:.2f}'.format(chisq, p))"
   ]
  },
  {
   "cell_type": "markdown",
   "metadata": {},
   "source": [
    "##### A.3 Email provider\n",
    "Different email providers are associated with different levels of adopted users (see graph below, $\\chi^2$ = 39.12, $p$ < 0.005). Hotmail users are most likely to be adopted users."
   ]
  },
  {
   "cell_type": "code",
   "execution_count": 124,
   "metadata": {},
   "outputs": [
    {
     "data": {
      "image/png": "[encoded data removed]",
      "text/plain": [
       "<Figure size 432x288 with 3 Axes>"
      ]
     },
     "metadata": {
      "needs_background": "light"
     },
     "output_type": "display_data"
    }
   ],
   "source": [
    "%matplotlib inline\n",
    "ct = pd.crosstab(df['email_provider'], df['adopted_user'])\n",
    "ct.columns = ['not user','adopted user']\n",
    "mosaic(ct.stack(), labelizer = lambda x: \"\", gap=[0.01, 0.005],\n",
    "       title='Proportion of email provider by adopted user status', label_rotation=90)\n",
    "plt.show()"
   ]
  },
  {
   "cell_type": "code",
   "execution_count": 126,
   "metadata": {
    "scrolled": true
   },
   "outputs": [
    {
     "name": "stdout",
     "output_type": "stream",
     "text": [
      "The χ-sq statistic was 35.81 with p = 0.0000030\n"
     ]
    }
   ],
   "source": [
    "chisq, p, dof, efs = chi2_contingency(ct)\n",
    "print('The \\u03C7-sq statistic was {:.2f} with p = {:.7f}'.format(chisq, p))"
   ]
  },
  {
   "cell_type": "markdown",
   "metadata": {},
   "source": [
    "##### A.4 Mailing list opt-in\n",
    "\n",
    "Mailing list opt-in does not appear to be associated with being an adopted user (see graph below, $\\chi^2$ = 0.45, $p$ =.50)"
   ]
  },
  {
   "cell_type": "code",
   "execution_count": 127,
   "metadata": {},
   "outputs": [
    {
     "data": {
      "image/png": "[encoded data removed]",
      "text/plain": [
       "<Figure size 432x288 with 3 Axes>"
      ]
     },
     "metadata": {
      "needs_background": "light"
     },
     "output_type": "display_data"
    }
   ],
   "source": [
    "%matplotlib inline\n",
    "ct = pd.crosstab(df['opted_in_to_mailing_list'], df['adopted_user'])\n",
    "ct.columns = ['not user','adopted user']\n",
    "ct.index=['not on mailing list', 'on mailing list']\n",
    "mosaic(ct.stack(), labelizer = lambda x: \"\", gap=[0.01, 0.005],\n",
    "       title='Proportion of mailing list opt-in by adopted user status')\n",
    "plt.show()"
   ]
  },
  {
   "cell_type": "code",
   "execution_count": 128,
   "metadata": {},
   "outputs": [
    {
     "name": "stdout",
     "output_type": "stream",
     "text": [
      "The χ-sq statistic was 0.56 with p = 0.46\n"
     ]
    }
   ],
   "source": [
    "chisq, p, dof, efs = chi2_contingency(ct)\n",
    "print('The \\u03C7-sq statistic was {:.2f} with p = {:.2f}'.format(chisq, p))"
   ]
  },
  {
   "cell_type": "markdown",
   "metadata": {},
   "source": [
    "##### A.5 Marketing drip enabled\n",
    "Marketing drip is not associated with being an adopted user (see graph below, $\\chi^2$ = 0.13, $p$ =.72)"
   ]
  },
  {
   "cell_type": "code",
   "execution_count": 129,
   "metadata": {},
   "outputs": [
    {
     "data": {
      "image/png": "[encoded data removed]",
      "text/plain": [
       "<Figure size 432x288 with 3 Axes>"
      ]
     },
     "metadata": {
      "needs_background": "light"
     },
     "output_type": "display_data"
    }
   ],
   "source": [
    "%matplotlib inline\n",
    "ct = pd.crosstab(df['enabled_for_marketing_drip'], df['adopted_user'])\n",
    "ct.columns = ['not user','adopted user']\n",
    "ct.index=['not enabled', 'marketing drip']\n",
    "mosaic(ct.stack(), labelizer = lambda x: \"\", gap=[0.01, 0.005],\n",
    "       title='Proportion of marketing drip enabled by adopted user status')\n",
    "plt.show()"
   ]
  },
  {
   "cell_type": "code",
   "execution_count": 130,
   "metadata": {
    "scrolled": true
   },
   "outputs": [
    {
     "name": "stdout",
     "output_type": "stream",
     "text": [
      "The χ-sq statistic was 0.11 with p = 0.74\n"
     ]
    }
   ],
   "source": [
    "chisq, p, dof, efs = chi2_contingency(ct)\n",
    "print('The \\u03C7-sq statistic was {:.2f} with p = {:.2f}'.format(chisq, p))"
   ]
  },
  {
   "cell_type": "markdown",
   "metadata": {},
   "source": [
    "##### A.6 Creation date\n",
    "Although not analyzed in the machine learning model, we analyzed new account creations each month. New accounts increased over time, the last month is simply incomplete."
   ]
  },
  {
   "cell_type": "code",
   "execution_count": 240,
   "metadata": {
    "scrolled": true
   },
   "outputs": [
    {
     "data": {
      "image/png": "[encoded data removed]",
      "text/plain": [
       "<Figure size 432x288 with 1 Axes>"
      ]
     },
     "metadata": {},
     "output_type": "display_data"
    }
   ],
   "source": [
    "# Create data frame with date-time index by creation date\n",
    "df_new = df.sort_values('creation_date').set_index(pd.DatetimeIndex(df['creation_date']))\n",
    "# Resample to week and plot\n",
    "_ = df_new.resample('1M').count().org_id.plot()\n",
    "_ = plt.title('New users by week')\n",
    "_ = plt.xlabel('Date')\n",
    "_ = plt.ylabel('Number of new users')\n",
    "plt.show()"
   ]
  }
 ],
 "metadata": {
  "kernelspec": {
   "display_name": "Python 3",
   "language": "python",
   "name": "python3"
  },
  "language_info": {
   "codemirror_mode": {
    "name": "ipython",
    "version": 3
   },
   "file_extension": ".py",
   "mimetype": "text/x-python",
   "name": "python",
   "nbconvert_exporter": "python",
   "pygments_lexer": "ipython3",
   "version": "3.7.3"
  }
 },
 "nbformat": 4,
 "nbformat_minor": 2
}
