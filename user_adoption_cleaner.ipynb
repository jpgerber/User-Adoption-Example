{
 "cells": [
  {
   "cell_type": "markdown",
   "metadata": {},
   "source": [
    "# User adoption analysis\n",
    "This project examines factors associated with user adoption of a project management tool.\n",
    "\n",
    "The analysis has two main tasks:\n",
    "1. Identify adopted users by wrangling a user login file.\n",
    "2. Extracting features associated with user via supervised learning.\n",
    "\n",
    "I also included an exploratory data analysis (see Appendix A)."
   ]
  },
  {
   "cell_type": "markdown",
   "metadata": {},
   "source": [
    "### Initial import and inspection of data files\n"
   ]
  },
  {
   "cell_type": "code",
   "execution_count": 1,
   "metadata": {},
   "outputs": [],
   "source": [
    "# Importing basic packages used\n",
    "import numpy as np\n",
    "import pandas as pd\n",
    "import datetime as dt\n",
    "import matplotlib.pyplot as plt\n",
    "import seaborn as sns"
   ]
  },
  {
   "cell_type": "markdown",
   "metadata": {},
   "source": [
    "Two data files were given for the analysis, one of user engagement (a list of time-stamped logins), and one of user features. Both are loaded below.\n",
    "##### User engagement data\n",
    "\n",
    "We loaded the engagement data into a dataframe and found 8823 users with 207917 total logins."
   ]
  },
  {
   "cell_type": "code",
   "execution_count": 2,
   "metadata": {},
   "outputs": [
    {
     "name": "stdout",
     "output_type": "stream",
     "text": [
      "   user_id  visited date_visited\n",
      "0        1        1   2014-04-22\n",
      "1        2        1   2013-11-15\n",
      "2        2        1   2013-11-29\n",
      "3        2        1   2013-12-09\n",
      "4        2        1   2013-12-25\n",
      "There were 8823 users and 207917 total logins\n"
     ]
    }
   ],
   "source": [
    "# Import the file\n",
    "df_engagement = pd.read_csv('takehome_user_engagement.csv')\n",
    "\n",
    "# Convert date and drop old timestamp column\n",
    "df_engagement['date_visited'] = pd.to_datetime(df_engagement['time_stamp'], format='%Y-%m-%d %H:%M:%S').dt.date\n",
    "df_engagement = df_engagement.drop('time_stamp', axis=1)\n",
    "\n",
    "# Print out head and basic info on user logins\n",
    "print(df_engagement.head())\n",
    "print('There were {} users and {} total logins'.format(df_engagement['user_id'].nunique(), len(df_engagement)))"
   ]
  },
  {
   "cell_type": "markdown",
   "metadata": {},
   "source": [
    "##### User features data\n",
    "\n",
    "The user features datafile indicated 12,000 user profiles had been created."
   ]
  },
  {
   "cell_type": "code",
   "execution_count": 3,
   "metadata": {},
   "outputs": [
    {
     "data": {
      "text/html": [
       "<div>\n",
       "<style scoped>\n",
       "    .dataframe tbody tr th:only-of-type {\n",
       "        vertical-align: middle;\n",
       "    }\n",
       "\n",
       "    .dataframe tbody tr th {\n",
       "        vertical-align: top;\n",
       "    }\n",
       "\n",
       "    .dataframe thead th {\n",
       "        text-align: right;\n",
       "    }\n",
       "</style>\n",
       "<table border=\"1\" class=\"dataframe\">\n",
       "  <thead>\n",
       "    <tr style=\"text-align: right;\">\n",
       "      <th></th>\n",
       "      <th>object_id</th>\n",
       "      <th>email</th>\n",
       "      <th>creation_source</th>\n",
       "      <th>opted_in_to_mailing_list</th>\n",
       "      <th>enabled_for_marketing_drip</th>\n",
       "      <th>org_id</th>\n",
       "      <th>invited_by_user_id</th>\n",
       "      <th>creation_date</th>\n",
       "      <th>last_session_date</th>\n",
       "    </tr>\n",
       "  </thead>\n",
       "  <tbody>\n",
       "    <tr>\n",
       "      <th>0</th>\n",
       "      <td>1</td>\n",
       "      <td>AugustCClausen@yahoo.com</td>\n",
       "      <td>GUEST_INVITE</td>\n",
       "      <td>1</td>\n",
       "      <td>0</td>\n",
       "      <td>11</td>\n",
       "      <td>10803.0</td>\n",
       "      <td>2014-04-22</td>\n",
       "      <td>2014-04-22</td>\n",
       "    </tr>\n",
       "    <tr>\n",
       "      <th>1</th>\n",
       "      <td>2</td>\n",
       "      <td>MatthewPoole@gustr.com</td>\n",
       "      <td>ORG_INVITE</td>\n",
       "      <td>0</td>\n",
       "      <td>0</td>\n",
       "      <td>1</td>\n",
       "      <td>316.0</td>\n",
       "      <td>2013-11-15</td>\n",
       "      <td>2014-03-31</td>\n",
       "    </tr>\n",
       "    <tr>\n",
       "      <th>2</th>\n",
       "      <td>3</td>\n",
       "      <td>MitchellBottrill@gustr.com</td>\n",
       "      <td>ORG_INVITE</td>\n",
       "      <td>0</td>\n",
       "      <td>0</td>\n",
       "      <td>94</td>\n",
       "      <td>1525.0</td>\n",
       "      <td>2013-03-19</td>\n",
       "      <td>2013-03-19</td>\n",
       "    </tr>\n",
       "    <tr>\n",
       "      <th>3</th>\n",
       "      <td>4</td>\n",
       "      <td>NicklasSClausen@yahoo.com</td>\n",
       "      <td>GUEST_INVITE</td>\n",
       "      <td>0</td>\n",
       "      <td>0</td>\n",
       "      <td>1</td>\n",
       "      <td>5151.0</td>\n",
       "      <td>2013-05-21</td>\n",
       "      <td>2013-05-22</td>\n",
       "    </tr>\n",
       "    <tr>\n",
       "      <th>4</th>\n",
       "      <td>5</td>\n",
       "      <td>GraceRaw@yahoo.com</td>\n",
       "      <td>GUEST_INVITE</td>\n",
       "      <td>0</td>\n",
       "      <td>0</td>\n",
       "      <td>193</td>\n",
       "      <td>5240.0</td>\n",
       "      <td>2013-01-17</td>\n",
       "      <td>2013-01-22</td>\n",
       "    </tr>\n",
       "  </tbody>\n",
       "</table>\n",
       "</div>"
      ],
      "text/plain": [
       "   object_id                       email creation_source  \\\n",
       "0          1    AugustCClausen@yahoo.com    GUEST_INVITE   \n",
       "1          2      MatthewPoole@gustr.com      ORG_INVITE   \n",
       "2          3  MitchellBottrill@gustr.com      ORG_INVITE   \n",
       "3          4   NicklasSClausen@yahoo.com    GUEST_INVITE   \n",
       "4          5          GraceRaw@yahoo.com    GUEST_INVITE   \n",
       "\n",
       "   opted_in_to_mailing_list  enabled_for_marketing_drip  org_id  \\\n",
       "0                         1                           0      11   \n",
       "1                         0                           0       1   \n",
       "2                         0                           0      94   \n",
       "3                         0                           0       1   \n",
       "4                         0                           0     193   \n",
       "\n",
       "   invited_by_user_id creation_date last_session_date  \n",
       "0             10803.0    2014-04-22        2014-04-22  \n",
       "1               316.0    2013-11-15        2014-03-31  \n",
       "2              1525.0    2013-03-19        2013-03-19  \n",
       "3              5151.0    2013-05-21        2013-05-22  \n",
       "4              5240.0    2013-01-17        2013-01-22  "
      ]
     },
     "execution_count": 3,
     "metadata": {},
     "output_type": "execute_result"
    }
   ],
   "source": [
    "# Choose the columns to import from the csv\n",
    "cols = ['object_id', 'creation_time', 'creation_source', 'last_session_creation_time', \n",
    "        'opted_in_to_mailing_list','enabled_for_marketing_drip', 'org_id', 'invited_by_user_id', 'email']\n",
    "\n",
    "# Import the data\n",
    "df_profiles = pd.read_csv('takehome_users.csv', encoding='latin', usecols=cols)\n",
    "# Convert the creation time column into a date, company definitions run by day\n",
    "df_profiles['creation_date'] = pd.to_datetime(df_profiles['creation_time'], format='%Y-%m-%d %H:%M:%S').dt.date\n",
    "df_profiles = df_profiles.drop('creation_time', axis=1)\n",
    "# Convert the last session time to a date, company definition runs by day\n",
    "df_profiles['last_session_date'] = pd.to_datetime(df_profiles.last_session_creation_time, unit='s').dt.date\n",
    "df_profiles = df_profiles.drop('last_session_creation_time', axis=1)\n",
    "df_profiles.head()"
   ]
  },
  {
   "cell_type": "markdown",
   "metadata": {},
   "source": [
    "##### Checking file consistency\n",
    "There were 12,000 users in the profiles data but only 8,823 in the engagement file, a discrepancy worth understanding, if only as a sanity check. Joining the two datasets gave the desired 8,823 rows, which shows that the extra rows in the profiles dataset were of those who signed up but never logged in."
   ]
  },
  {
   "cell_type": "code",
   "execution_count": 4,
   "metadata": {},
   "outputs": [
    {
     "name": "stdout",
     "output_type": "stream",
     "text": [
      "Merging both files gave 8823 matched rows\n"
     ]
    }
   ],
   "source": [
    "# Create a df of ids from the user login data\n",
    "ids_engagement = df_engagement.groupby('user_id').sum().reset_index()\n",
    "# Check those ids match the user profiles data\n",
    "merged_sanity_check = pd.merge(ids_engagement, df_profiles, left_on='user_id', right_on='object_id')\n",
    "print('Merging both files gave {} matched rows'.format(merged_sanity_check.shape[0]))"
   ]
  },
  {
   "cell_type": "markdown",
   "metadata": {},
   "source": [
    "## 1. Identifying adopted users\n",
    "Adopted users are defined as those who logged in on at least three separate days within any 7-day window.\n",
    "The user login data showed <b>1,656 adopted users</b> out of 8,823 total users. 19% of users are adopted users."
   ]
  },
  {
   "cell_type": "code",
   "execution_count": 5,
   "metadata": {},
   "outputs": [
    {
     "name": "stdout",
     "output_type": "stream",
     "text": [
      "There were 1656 adopted users out of 8823 users\n",
      "18.769126% of users were adopted users\n"
     ]
    }
   ],
   "source": [
    "# define a function to see if a user logged in 3 or more separate days in a week\n",
    "def logins_in_days(df, days=7, logins=3):\n",
    "    from datetime import timedelta\n",
    "    # first drop duplicate days and sort by date\n",
    "    df = df.drop_duplicates(subset='date_visited').sort_values('date_visited')\n",
    "    # calculate how many days has passed for every 3 logins\n",
    "    passed_days = df['date_visited'].diff(periods=logins-1)\n",
    "    # check if any passed time is less than 7 days\n",
    "    return any(passed_days <= timedelta(days=days))\n",
    "\n",
    "# run the function on all users\n",
    "adopted = df_engagement.groupby('user_id').apply(logins_in_days)\n",
    "adopted.name = 'adopted_user'\n",
    "\n",
    "print('There were {} adopted users out of {} users'.format(sum(adopted), len(adopted)))\n",
    "print('{:1%} of users were adopted users'.format(    sum(adopted)/ len(adopted)))\n"
   ]
  },
  {
   "cell_type": "markdown",
   "metadata": {},
   "source": [
    "## 2. Features associated with being an adopted user\n",
    "\n",
    "Management want to know what might predict a <u><i>future</i> adopted user</u>. As such, data leakage is a key machine learning issue. In this instance, leakage would occur when we use some proxy for adopted user status as a predictor in any model. Because adopted user status is based on user history over time, we should not be using predictors that include any information about usage over time in our models. We want to predict future adopted users, not just use information on their usage history to predict their current user status.\n",
    "\n",
    "Another way to put this is that it is trivially true that people who have used our platform a long time (and those who have logged in recently) are adopted users. But a long-history is not a causal factor for user adoption, it is simply definitional ('someone with a long usage history IS an adopted user'), and will not help us to predict future users.\n",
    "\n",
    "#### 2.0 Merging the adoption status into the features file"
   ]
  },
  {
   "cell_type": "code",
   "execution_count": 20,
   "metadata": {},
   "outputs": [],
   "source": [
    "# Merge the adopted users into the user profile data\n",
    "df = pd.merge(adopted.reset_index(), df_profiles, left_on='user_id', right_on='object_id').drop('object_id', axis=1).set_index('user_id')\n",
    "df.adopted_user = df.adopted_user.astype(int)"
   ]
  },
  {
   "cell_type": "markdown",
   "metadata": {},
   "source": [
    "#### 2.1 Removing censored cases\n",
    "\n",
    "Before doing the machine learning, we first needed to remove any censored cases (users whose adoption status might be unknown). For example, we would not know whether someone who joined the platform one week before the end of our data logins collection would later become an adopted user. BUT, our procedure for calculating adopted users meant such people were coded as 'not adopted users'. This error introduces noise into our outcome variable. So we needed to remove those.\n",
    "\n",
    "In order to do so, we first examined how long it takes for someone to become an adopted user. \n",
    "It takes, on average, 50 days for users to become adopted users (see chart below), and this tended to come in three distinct spikes: one spike in the first week, a second group about a month in, and then a smaller group around two months in (see future analyses for further discussion of these spikes).\n",
    "\n",
    "As such, it made sense to remove accounts created in the last 50 days. There were 932 users with accounts created in the last 50 days (10.5% of all accounts), removing these left 7,891 data points for prediction."
   ]
  },
  {
   "cell_type": "code",
   "execution_count": 21,
   "metadata": {},
   "outputs": [],
   "source": [
    "# Making the date of adoption function and then applying it to the dataframe\n",
    "def first_adoption3(df):\n",
    "    ''' This function takes a dataframe and column name, latter in quotes,\n",
    "    and returns the date a user first adopted a program. First adoption\n",
    "    is defined as three or more days of logging in over a week.'''\n",
    "    from datetime import timedelta\n",
    "    df = df.reset_index()\n",
    "    for i in range(len(df)-2):\n",
    "        if df.loc[i+2, 'date_visited'] - df.loc[i, 'date_visited'] <= timedelta(days=7):\n",
    "            return (df.loc[i+2, 'date_visited'])\n",
    "            break\n",
    "            \n",
    "df['adoption_date'] = df_engagement.groupby('user_id').apply(first_adoption3)"
   ]
  },
  {
   "cell_type": "code",
   "execution_count": 22,
   "metadata": {},
   "outputs": [
    {
     "data": {
      "image/png": "[encoded data removed]",
      "text/plain": [
       "<Figure size 640x480 with 1 Axes>"
      ]
     },
     "metadata": {},
     "output_type": "display_data"
    },
    {
     "name": "stdout",
     "output_type": "stream",
     "text": [
      "The average time it takes to adopt the platform is 50 days\n"
     ]
    }
   ],
   "source": [
    "# Charting the time it takes for users to adopt the platform\n",
    "df['time_to_adopt'] = (df['adoption_date']-df['creation_date'])\n",
    "dtp = df.time_to_adopt.dt.days\n",
    "dtp.hist(bins=100)\n",
    "plt.title('How long it takes for people to become adopted users')\n",
    "plt.xlabel('Days from creation until adoption')\n",
    "plt.ylabel('Number of cases')\n",
    "plt.style.use('classic')\n",
    "plt.show()\n",
    "\n",
    "# Calculating the mean for adoption time\n",
    "print('The average time it takes to adopt the platform is {:.0f} days'.format(np.mean(df.time_to_adopt.dt.days)))"
   ]
  },
  {
   "cell_type": "code",
   "execution_count": 23,
   "metadata": {},
   "outputs": [
    {
     "name": "stdout",
     "output_type": "stream",
     "text": [
      "Most recent user created on 2014-05-30\n",
      "Last login recorded on 2014-06-06\n",
      "Users created after 2014-04-17 should be removed\n"
     ]
    }
   ],
   "source": [
    "print('Most recent user created on {}'.format(df.creation_date.max()))\n",
    "print('Last login recorded on {}'.format(df_engagement.date_visited.max()))\n",
    "print('Users created after {} should be removed'.format(df_engagement.date_visited.max() - dt.timedelta(50)))"
   ]
  },
  {
   "cell_type": "code",
   "execution_count": 26,
   "metadata": {},
   "outputs": [
    {
     "name": "stdout",
     "output_type": "stream",
     "text": [
      "After removing the censored points, there were 7891 cases left.\n",
      "After cleaning, 20.985933% of cases were adopted users\n"
     ]
    }
   ],
   "source": [
    "# Make the data frame without censored cases\n",
    "df = df[df.creation_date <= df_engagement.date_visited.max() - dt.timedelta(50)]\n",
    "print('After removing the censored points, there were {} cases left.'.format(df.shape[0]))\n",
    "print('After cleaning, {:1%} of cases were adopted users'.format(sum(adopted)/ len(df.creation_date)))"
   ]
  },
  {
   "cell_type": "markdown",
   "metadata": {},
   "source": [
    "#### 2.1 Recoding & feature engineering\n",
    "\n",
    "Before running the machine learning, we explored and recoded variables where appropriate, as noted below. For further details on these analyses, see the appendix (which contains my EDA).\n",
    "1. Email provider. There were six main email providers with counts over 800, all others having 2 or less. The six main were kept, and the others were combined into one 'other' category.\n",
    "2. Invited by user. About 1/3 of users had no invite, and no user gave more than 13 invites. This variable was recoded into an indicator variable (0 for no invitation, 1 for an invitation).\n",
    "3. Organizational ID. There were 417 unique organizational IDs, and we have no further information on the nature, names or structure of these organizations. As such, we removed this ID from the machine learning model as it would be likely to cause issues with fitting and then still not be interpretable."
   ]
  },
  {
   "cell_type": "code",
   "execution_count": 27,
   "metadata": {},
   "outputs": [],
   "source": [
    "# Recode emails\n",
    "df['email_provider'] = [x.split('@')[1] for x in df.email] #select out the domain\n",
    "#df.email_provider.value_counts() # this shows that there are six main providers\n",
    "top_emails = df.email_provider.value_counts().index[:6]\n",
    "\n",
    "#label anything not in the top 6 as other\n",
    "df['email_provider'] = [x if x in top_emails else 'other' for x in df.email_provider]"
   ]
  },
  {
   "cell_type": "code",
   "execution_count": 28,
   "metadata": {},
   "outputs": [],
   "source": [
    "# Recoding invited_by_user_id into an indicator variable\n",
    "df['invited_by_user_ind'] = df['invited_by_user_id'] > 0\n",
    "df['invited_by_user_ind'] = df['invited_by_user_ind'].astype(int)"
   ]
  },
  {
   "cell_type": "code",
   "execution_count": 29,
   "metadata": {},
   "outputs": [
    {
     "data": {
      "text/html": [
       "<div>\n",
       "<style scoped>\n",
       "    .dataframe tbody tr th:only-of-type {\n",
       "        vertical-align: middle;\n",
       "    }\n",
       "\n",
       "    .dataframe tbody tr th {\n",
       "        vertical-align: top;\n",
       "    }\n",
       "\n",
       "    .dataframe thead th {\n",
       "        text-align: right;\n",
       "    }\n",
       "</style>\n",
       "<table border=\"1\" class=\"dataframe\">\n",
       "  <thead>\n",
       "    <tr style=\"text-align: right;\">\n",
       "      <th></th>\n",
       "      <th>adopted_user</th>\n",
       "      <th>email</th>\n",
       "      <th>creation_source</th>\n",
       "      <th>opted_in_to_mailing_list</th>\n",
       "      <th>enabled_for_marketing_drip</th>\n",
       "      <th>org_id</th>\n",
       "      <th>invited_by_user_id</th>\n",
       "      <th>creation_date</th>\n",
       "      <th>last_session_date</th>\n",
       "      <th>adoption_date</th>\n",
       "      <th>time_to_adopt</th>\n",
       "      <th>email_provider</th>\n",
       "      <th>invited_by_user_ind</th>\n",
       "    </tr>\n",
       "    <tr>\n",
       "      <th>user_id</th>\n",
       "      <th></th>\n",
       "      <th></th>\n",
       "      <th></th>\n",
       "      <th></th>\n",
       "      <th></th>\n",
       "      <th></th>\n",
       "      <th></th>\n",
       "      <th></th>\n",
       "      <th></th>\n",
       "      <th></th>\n",
       "      <th></th>\n",
       "      <th></th>\n",
       "      <th></th>\n",
       "    </tr>\n",
       "  </thead>\n",
       "  <tbody>\n",
       "    <tr>\n",
       "      <th>2</th>\n",
       "      <td>1</td>\n",
       "      <td>MatthewPoole@gustr.com</td>\n",
       "      <td>ORG_INVITE</td>\n",
       "      <td>0</td>\n",
       "      <td>0</td>\n",
       "      <td>1</td>\n",
       "      <td>316.0</td>\n",
       "      <td>2013-11-15</td>\n",
       "      <td>2014-03-31</td>\n",
       "      <td>2014-02-09</td>\n",
       "      <td>86 days</td>\n",
       "      <td>gustr.com</td>\n",
       "      <td>1</td>\n",
       "    </tr>\n",
       "    <tr>\n",
       "      <th>3</th>\n",
       "      <td>0</td>\n",
       "      <td>MitchellBottrill@gustr.com</td>\n",
       "      <td>ORG_INVITE</td>\n",
       "      <td>0</td>\n",
       "      <td>0</td>\n",
       "      <td>94</td>\n",
       "      <td>1525.0</td>\n",
       "      <td>2013-03-19</td>\n",
       "      <td>2013-03-19</td>\n",
       "      <td>None</td>\n",
       "      <td>NaT</td>\n",
       "      <td>gustr.com</td>\n",
       "      <td>1</td>\n",
       "    </tr>\n",
       "    <tr>\n",
       "      <th>4</th>\n",
       "      <td>0</td>\n",
       "      <td>NicklasSClausen@yahoo.com</td>\n",
       "      <td>GUEST_INVITE</td>\n",
       "      <td>0</td>\n",
       "      <td>0</td>\n",
       "      <td>1</td>\n",
       "      <td>5151.0</td>\n",
       "      <td>2013-05-21</td>\n",
       "      <td>2013-05-22</td>\n",
       "      <td>None</td>\n",
       "      <td>NaT</td>\n",
       "      <td>yahoo.com</td>\n",
       "      <td>1</td>\n",
       "    </tr>\n",
       "    <tr>\n",
       "      <th>5</th>\n",
       "      <td>0</td>\n",
       "      <td>GraceRaw@yahoo.com</td>\n",
       "      <td>GUEST_INVITE</td>\n",
       "      <td>0</td>\n",
       "      <td>0</td>\n",
       "      <td>193</td>\n",
       "      <td>5240.0</td>\n",
       "      <td>2013-01-17</td>\n",
       "      <td>2013-01-22</td>\n",
       "      <td>None</td>\n",
       "      <td>NaT</td>\n",
       "      <td>yahoo.com</td>\n",
       "      <td>1</td>\n",
       "    </tr>\n",
       "    <tr>\n",
       "      <th>6</th>\n",
       "      <td>0</td>\n",
       "      <td>EduardoPereiraCunha@yahoo.com</td>\n",
       "      <td>GUEST_INVITE</td>\n",
       "      <td>0</td>\n",
       "      <td>0</td>\n",
       "      <td>197</td>\n",
       "      <td>11241.0</td>\n",
       "      <td>2013-12-17</td>\n",
       "      <td>2013-12-19</td>\n",
       "      <td>None</td>\n",
       "      <td>NaT</td>\n",
       "      <td>yahoo.com</td>\n",
       "      <td>1</td>\n",
       "    </tr>\n",
       "  </tbody>\n",
       "</table>\n",
       "</div>"
      ],
      "text/plain": [
       "         adopted_user                          email creation_source  \\\n",
       "user_id                                                                \n",
       "2                   1         MatthewPoole@gustr.com      ORG_INVITE   \n",
       "3                   0     MitchellBottrill@gustr.com      ORG_INVITE   \n",
       "4                   0      NicklasSClausen@yahoo.com    GUEST_INVITE   \n",
       "5                   0             GraceRaw@yahoo.com    GUEST_INVITE   \n",
       "6                   0  EduardoPereiraCunha@yahoo.com    GUEST_INVITE   \n",
       "\n",
       "         opted_in_to_mailing_list  enabled_for_marketing_drip  org_id  \\\n",
       "user_id                                                                 \n",
       "2                               0                           0       1   \n",
       "3                               0                           0      94   \n",
       "4                               0                           0       1   \n",
       "5                               0                           0     193   \n",
       "6                               0                           0     197   \n",
       "\n",
       "         invited_by_user_id creation_date last_session_date adoption_date  \\\n",
       "user_id                                                                     \n",
       "2                     316.0    2013-11-15        2014-03-31    2014-02-09   \n",
       "3                    1525.0    2013-03-19        2013-03-19          None   \n",
       "4                    5151.0    2013-05-21        2013-05-22          None   \n",
       "5                    5240.0    2013-01-17        2013-01-22          None   \n",
       "6                   11241.0    2013-12-17        2013-12-19          None   \n",
       "\n",
       "        time_to_adopt email_provider  invited_by_user_ind  \n",
       "user_id                                                    \n",
       "2             86 days      gustr.com                    1  \n",
       "3                 NaT      gustr.com                    1  \n",
       "4                 NaT      yahoo.com                    1  \n",
       "5                 NaT      yahoo.com                    1  \n",
       "6                 NaT      yahoo.com                    1  "
      ]
     },
     "execution_count": 29,
     "metadata": {},
     "output_type": "execute_result"
    }
   ],
   "source": [
    "df.head()"
   ]
  },
  {
   "cell_type": "code",
   "execution_count": 30,
   "metadata": {},
   "outputs": [],
   "source": [
    "# Invitation inspection\n",
    "#df.invited_by_user_id.fillna(0).value_counts()\n",
    "# Org ID inspection\n",
    "#df.org_id.value_counts()"
   ]
  },
  {
   "cell_type": "markdown",
   "metadata": {},
   "source": [
    "#### 2.2 Feature selection\n",
    "The problem of leakage seems large in this dataset. Specifically, our outcome variable is based on login dates, and hence these are associated with such variables as creation date and last session date. To include date-based variables in our model would, in this instance, inflate the accuracy of our model. Another way to put it is that we want to predict <b>future</b> adopted users, so putting in current usage data (e.g. last login) would not help us in our future prediction.\n",
    "As such, we did not include creation date or last login date as predictors.\n",
    "\n",
    "<b>This left us with 5 predictors:</b>\n",
    "1. Creation source.\n",
    "2. Mailing list opt-in\n",
    "3. Marketing drip\n",
    "4. Email type\n",
    "5. Invitation by user\n",
    "\n",
    "Creation source and email type were given dummy variables."
   ]
  },
  {
   "cell_type": "code",
   "execution_count": 31,
   "metadata": {},
   "outputs": [],
   "source": [
    "df.email_provider = df.email_provider.astype('category')\n",
    "df.creation_source = df.creation_source.astype('category')"
   ]
  },
  {
   "cell_type": "markdown",
   "metadata": {},
   "source": [
    "#### 2.3 Fittting the random forest model.\n",
    "A random forest model was used.\n",
    "The machine learning model is instantiated and fit below.\n",
    "All variables were categorical, and those with more than two categories were one-hot encoded."
   ]
  },
  {
   "cell_type": "code",
   "execution_count": 32,
   "metadata": {},
   "outputs": [
    {
     "data": {
      "text/html": [
       "<div>\n",
       "<style scoped>\n",
       "    .dataframe tbody tr th:only-of-type {\n",
       "        vertical-align: middle;\n",
       "    }\n",
       "\n",
       "    .dataframe tbody tr th {\n",
       "        vertical-align: top;\n",
       "    }\n",
       "\n",
       "    .dataframe thead th {\n",
       "        text-align: right;\n",
       "    }\n",
       "</style>\n",
       "<table border=\"1\" class=\"dataframe\">\n",
       "  <thead>\n",
       "    <tr style=\"text-align: right;\">\n",
       "      <th></th>\n",
       "      <th>invited_by_user_ind</th>\n",
       "      <th>enabled_for_marketing_drip</th>\n",
       "      <th>opted_in_to_mailing_list</th>\n",
       "      <th>creation_source</th>\n",
       "      <th>email_provider</th>\n",
       "    </tr>\n",
       "    <tr>\n",
       "      <th>user_id</th>\n",
       "      <th></th>\n",
       "      <th></th>\n",
       "      <th></th>\n",
       "      <th></th>\n",
       "      <th></th>\n",
       "    </tr>\n",
       "  </thead>\n",
       "  <tbody>\n",
       "    <tr>\n",
       "      <th>2</th>\n",
       "      <td>1</td>\n",
       "      <td>0</td>\n",
       "      <td>0</td>\n",
       "      <td>ORG_INVITE</td>\n",
       "      <td>gustr.com</td>\n",
       "    </tr>\n",
       "    <tr>\n",
       "      <th>3</th>\n",
       "      <td>1</td>\n",
       "      <td>0</td>\n",
       "      <td>0</td>\n",
       "      <td>ORG_INVITE</td>\n",
       "      <td>gustr.com</td>\n",
       "    </tr>\n",
       "    <tr>\n",
       "      <th>4</th>\n",
       "      <td>1</td>\n",
       "      <td>0</td>\n",
       "      <td>0</td>\n",
       "      <td>GUEST_INVITE</td>\n",
       "      <td>yahoo.com</td>\n",
       "    </tr>\n",
       "    <tr>\n",
       "      <th>5</th>\n",
       "      <td>1</td>\n",
       "      <td>0</td>\n",
       "      <td>0</td>\n",
       "      <td>GUEST_INVITE</td>\n",
       "      <td>yahoo.com</td>\n",
       "    </tr>\n",
       "    <tr>\n",
       "      <th>6</th>\n",
       "      <td>1</td>\n",
       "      <td>0</td>\n",
       "      <td>0</td>\n",
       "      <td>GUEST_INVITE</td>\n",
       "      <td>yahoo.com</td>\n",
       "    </tr>\n",
       "  </tbody>\n",
       "</table>\n",
       "</div>"
      ],
      "text/plain": [
       "         invited_by_user_ind  enabled_for_marketing_drip  \\\n",
       "user_id                                                    \n",
       "2                          1                           0   \n",
       "3                          1                           0   \n",
       "4                          1                           0   \n",
       "5                          1                           0   \n",
       "6                          1                           0   \n",
       "\n",
       "         opted_in_to_mailing_list creation_source email_provider  \n",
       "user_id                                                           \n",
       "2                               0      ORG_INVITE      gustr.com  \n",
       "3                               0      ORG_INVITE      gustr.com  \n",
       "4                               0    GUEST_INVITE      yahoo.com  \n",
       "5                               0    GUEST_INVITE      yahoo.com  \n",
       "6                               0    GUEST_INVITE      yahoo.com  "
      ]
     },
     "execution_count": 32,
     "metadata": {},
     "output_type": "execute_result"
    }
   ],
   "source": [
    "X = df[['invited_by_user_ind', 'enabled_for_marketing_drip', \n",
    "        'opted_in_to_mailing_list', 'creation_source',\n",
    "        'email_provider']]\n",
    "y = df[['adopted_user']]\n",
    "X.head()"
   ]
  },
  {
   "cell_type": "code",
   "execution_count": 35,
   "metadata": {},
   "outputs": [
    {
     "name": "stdout",
     "output_type": "stream",
     "text": [
      "features and predictors have same shape: True\n",
      "features and predictors in TRAINING set have same shape: True\n",
      "features and predictors in TEST set have same shape: True\n"
     ]
    },
    {
     "name": "stderr",
     "output_type": "stream",
     "text": [
      "/Users/jonathangerber/anaconda3/lib/python3.7/site-packages/sklearn/pipeline.py:354: DataConversionWarning: A column-vector y was passed when a 1d array was expected. Please change the shape of y to (n_samples,), for example using ravel().\n",
      "  self._final_estimator.fit(Xt, y, **fit_params)\n"
     ]
    },
    {
     "data": {
      "text/plain": [
       "Pipeline(memory=None,\n",
       "         steps=[('preprocess',\n",
       "                 ColumnTransformer(n_jobs=None, remainder='drop',\n",
       "                                   sparse_threshold=0.3,\n",
       "                                   transformer_weights=None,\n",
       "                                   transformers=[('ohe',\n",
       "                                                  OneHotEncoder(categories='auto',\n",
       "                                                                drop=None,\n",
       "                                                                dtype=<class 'numpy.float64'>,\n",
       "                                                                handle_unknown='ignore',\n",
       "                                                                sparse=False),\n",
       "                                                  ['email_provider',\n",
       "                                                   'creation_source']),\n",
       "                                                 ('binary', 'passthrough',\n",
       "                                                  ['invited_by_user_ind',...\n",
       "                 RandomForestClassifier(bootstrap=True, ccp_alpha=0.0,\n",
       "                                        class_weight=None, criterion='gini',\n",
       "                                        max_depth=None, max_features='auto',\n",
       "                                        max_leaf_nodes=None, max_samples=None,\n",
       "                                        min_impurity_decrease=0.0,\n",
       "                                        min_impurity_split=None,\n",
       "                                        min_samples_leaf=1, min_samples_split=2,\n",
       "                                        min_weight_fraction_leaf=0.0,\n",
       "                                        n_estimators=100, n_jobs=None,\n",
       "                                        oob_score=False, random_state=42,\n",
       "                                        verbose=0, warm_start=False))],\n",
       "         verbose=False)"
      ]
     },
     "execution_count": 35,
     "metadata": {},
     "output_type": "execute_result"
    }
   ],
   "source": [
    "# Check the shapes are the same\n",
    "print('features and predictors have same shape: {}'.format(X.shape[0] == y.shape[0]))\n",
    "\n",
    "# Import things\n",
    "from sklearn.model_selection import train_test_split\n",
    "from sklearn.pipeline import Pipeline\n",
    "from sklearn.preprocessing import OneHotEncoder\n",
    "from sklearn.compose import ColumnTransformer\n",
    "from sklearn.ensemble import RandomForestClassifier\n",
    "from sklearn.inspection import permutation_importance\n",
    "# Split data sets first\n",
    "\n",
    "Xtrain, Xtest, ytrain, ytest = train_test_split(X, y, stratify=y, random_state=42)\n",
    "print('features and predictors in TRAINING set have same shape: {}'.format(Xtrain.shape[0] == ytrain.shape[0]))\n",
    "print('features and predictors in TEST set have same shape: {}'.format(Xtest.shape[0] == ytest.shape[0]))     \n",
    "\n",
    "# Pre-processing the columns\n",
    "#cat_pipe = Pipeline(('ohe', OneHotEncoder(sparse=False, handle_unknown='ignore')), # Set up the ohe\n",
    "mult_cat_cols = ['email_provider', 'creation_source'] # Select multiple category columns\n",
    "binary_cols = ['invited_by_user_ind', 'enabled_for_marketing_drip', 'opted_in_to_mailing_list']\n",
    "#cat_transformers = [('cat', cat_pipe, cat_cols)] # Make transformer step\n",
    "ct = ColumnTransformer([('ohe', OneHotEncoder(sparse=False, handle_unknown='ignore'), mult_cat_cols),\n",
    "                      ('binary', 'passthrough', binary_cols)]) # Make column transformer\n",
    "\n",
    "# Make a pipeline with the column pre-processing and the RF\n",
    "rf = Pipeline([\n",
    "    ('preprocess', ct),\n",
    "    ('classifier', RandomForestClassifier(random_state=42))\n",
    "])\n",
    "\n",
    "# Fit it\n",
    "rf.fit(Xtrain, ytrain)"
   ]
  },
  {
   "cell_type": "markdown",
   "metadata": {},
   "source": [
    "#### 2.4 Evaluation of the model\n",
    "The model was evaluted using accuracy on the test set. Given the class imbalance of approximately 20% adopted vs 80% non-adopted users, the accuracy of 79.3% is poor. The model does not, however, appear to be overfitting (although this should be checked by cross-validation) because the training and test sets have very little difference in accuracy.\n",
    "Further evaluation metrics could include precision and recall, but this would be overicing the cake because, as seen in the permutation importance, none of the categorical variables helped predict whether a user became an adopted user.\n",
    "(Permutation importance was used because the impurity measure typically used is biased towards variables with multiple categories).\n"
   ]
  },
  {
   "cell_type": "code",
   "execution_count": 36,
   "metadata": {},
   "outputs": [
    {
     "name": "stdout",
     "output_type": "stream",
     "text": [
      "RF train accuracy: 0.795\n",
      "RF test accuracy: 0.793\n"
     ]
    },
    {
     "data": {
      "image/png": "[encoded data removed]",
      "text/plain": [
       "<Figure size 640x480 with 1 Axes>"
      ]
     },
     "metadata": {},
     "output_type": "display_data"
    }
   ],
   "source": [
    "print(\"RF train accuracy: %0.3f\" % rf.score(Xtrain, ytrain))\n",
    "print(\"RF test accuracy: %0.3f\" % rf.score(Xtest, ytest))\n",
    "\n",
    "# Evaluate with permutation\n",
    "result = permutation_importance(rf, Xtest, ytest, n_repeats=10,\n",
    "                                random_state=42, n_jobs=2)\n",
    "sorted_idx = result.importances_mean.argsort()\n",
    "\n",
    "fig, ax = plt.subplots()\n",
    "ax.boxplot(result.importances[sorted_idx].T,\n",
    "           vert=False, labels=Xtest.columns[sorted_idx])\n",
    "ax.set_title(\"Permutation Importances (test set)\")\n",
    "fig.tight_layout()\n",
    "plt.show()\n",
    "# Get feature importances\n",
    "\n",
    "#X.info()\n",
    "\n",
    "# Feature names for when needed\n",
    "# ct.named_transformers_['ohe'].get_feature_names()"
   ]
  },
  {
   "cell_type": "markdown",
   "metadata": {},
   "source": [
    "# Conclusions\n",
    "\n",
    "Overall, the data given to us were not useful in predicting future adopted users. None of the variables helped increase our prediction.\n",
    "\n",
    "The results do improve significantly if data leakage is allowed (by allowing date of adoption and recent usage to be predictors in the model), but this is not a helpful approach to take when trying to predict future users.\n",
    "\n",
    "Overall, we recommend that different variables are collected and extracted in order to discover what makes users become adopted users.\n",
    "\n",
    "That said, the data were very clean, which is quite helpful."
   ]
  },
  {
   "cell_type": "markdown",
   "metadata": {},
   "source": [
    "Future ideas\n",
    "(Future analyses could investigate predictors of the length of time until adoption, rather than adopting the binary outcome requested in the problem statement.)\n"
   ]
  },
  {
   "cell_type": "markdown",
   "metadata": {},
   "source": [
    "## Appendix A. EDA\n",
    "\n",
    "Before conducting machine learning, each potential predictor was explored for its relationship with the outcome.\n",
    "\n",
    "##### 2.2.1 Creation source. \n",
    "The number of adopted users differed by creation source (see graph below, $\\chi^2$ = 41.28, $p$ < .0005). Those signing up due to a guest invitation or a personal project appear to be more likely to be an adopted user. "
   ]
  },
  {
   "cell_type": "code",
   "execution_count": 164,
   "metadata": {},
   "outputs": [
    {
     "data": {
      "image/png": "[encoded data removed]",
      "text/plain": [
       "<Figure size 432x288 with 3 Axes>"
      ]
     },
     "metadata": {
      "needs_background": "light"
     },
     "output_type": "display_data"
    },
    {
     "name": "stdout",
     "output_type": "stream",
     "text": [
      "The χ-sq stat was 41.28 with p = 0.000000\n"
     ]
    }
   ],
   "source": [
    "from statsmodels.graphics.mosaicplot import mosaic\n",
    "\n",
    "ct = pd.crosstab(df['creation_source'], df['adopted_user'])\n",
    "ct.columns=['not on mailing list', 'on mailing list']\n",
    "mosaic(ct.stack(), labelizer = lambda x: \"\", gap=[0.01, 0.005], label_rotation=90,\n",
    "       title='Proportion of creation source by adopted user status')\n",
    "plt.show()\n",
    "\n",
    "chisq, p, dof, efs = chi2_contingency(ct)\n",
    "print('The \\u03C7-sq stat was {:.2f} with p = {:6f}'.format(chisq, p))"
   ]
  },
  {
   "cell_type": "markdown",
   "metadata": {},
   "source": [
    "##### 2.2.2 Mailing list opt-in\n",
    "\n",
    "Mailing list opt-in does not appear to be associated with being an adopted user (see graph below, $\\chi^2$ = 0.45, $p$ =.50)"
   ]
  },
  {
   "cell_type": "code",
   "execution_count": 145,
   "metadata": {},
   "outputs": [
    {
     "data": {
      "image/png": "[encoded data removed]",
      "text/plain": [
       "<Figure size 432x288 with 3 Axes>"
      ]
     },
     "metadata": {
      "needs_background": "light"
     },
     "output_type": "display_data"
    },
    {
     "name": "stdout",
     "output_type": "stream",
     "text": [
      "The χ-sq statistic was 0.45 with p = 0.50\n"
     ]
    }
   ],
   "source": [
    "ct = pd.crosstab(df['opted_in_to_mailing_list'], df['adopted_user'])\n",
    "ct.columns = ['not user','adopted user']\n",
    "ct.index=['not on mailing list', 'on mailing list']\n",
    "mosaic(ct.stack(), labelizer = lambda x: \"\", gap=[0.01, 0.005],\n",
    "       title='Proportion of mailing list opt-in by adopted user status')\n",
    "plt.show()\n",
    "\n",
    "chisq, p, dof, efs = chi2_contingency(ct)\n",
    "print('The \\u03C7-sq statistic was {:.2f} with p = {:.2f}'.format(chisq, p))"
   ]
  },
  {
   "cell_type": "markdown",
   "metadata": {},
   "source": [
    "##### 2.2.3 Marketing drip enabled\n",
    "Marketing drip is not associated with being an adopted user (see graph below, $\\chi^2$ = 0.13, $p$ =.72)"
   ]
  },
  {
   "cell_type": "code",
   "execution_count": 153,
   "metadata": {
    "scrolled": true
   },
   "outputs": [
    {
     "data": {
      "image/png": "[encoded data removed]",
      "text/plain": [
       "<Figure size 432x288 with 3 Axes>"
      ]
     },
     "metadata": {
      "needs_background": "light"
     },
     "output_type": "display_data"
    },
    {
     "name": "stdout",
     "output_type": "stream",
     "text": [
      "The χ-sq statistic was 0.13 with p = 0.72\n"
     ]
    }
   ],
   "source": [
    "ct = pd.crosstab(df['enabled_for_marketing_drip'], df['adopted_user'])\n",
    "ct.columns = ['not user','adopted user']\n",
    "ct.index=['not enabled', 'marketing drip']\n",
    "mosaic(ct.stack(), labelizer = lambda x: \"\", gap=[0.01, 0.005],\n",
    "       title='Proportion of marketing drip enabled by adopted user status')\n",
    "plt.show()\n",
    "\n",
    "chisq, p, dof, efs = chi2_contingency(ct)\n",
    "print('The \\u03C7-sq statistic was {:.2f} with p = {:.2f}'.format(chisq, p))"
   ]
  },
  {
   "cell_type": "markdown",
   "metadata": {},
   "source": [
    "##### 2.2.4 Invitation by current user\n",
    "Being invited by a current user is associated with being an adopted user (see graph below, $\\chi^2$ = 6.36, $p$ =.01)"
   ]
  },
  {
   "cell_type": "code",
   "execution_count": 162,
   "metadata": {},
   "outputs": [
    {
     "data": {
      "image/png": "[encoded data removed]",
      "text/plain": [
       "<Figure size 432x288 with 3 Axes>"
      ]
     },
     "metadata": {
      "needs_background": "light"
     },
     "output_type": "display_data"
    },
    {
     "name": "stdout",
     "output_type": "stream",
     "text": [
      "The χ-sq statistic was 0.13 with p = 0.72\n"
     ]
    }
   ],
   "source": [
    "ct = pd.crosstab(df['enabled_for_marketing_drip'], df['adopted_user'])\n",
    "ct.columns = ['not user','adopted user']\n",
    "ct.index=['not enabled', 'marketing drip']\n",
    "mosaic(ct.stack(), labelizer = lambda x: \"\", gap=[0.01, 0.005],\n",
    "       title='Proportion of marketing drip enabled by adopted user status')\n",
    "plt.show()\n",
    "\n",
    "chisq, p, dof, efs = chi2_contingency(ct)\n",
    "print('The \\u03C7-sq statistic was {:.2f} with p = {:.2f}'.format(chisq, p))"
   ]
  },
  {
   "cell_type": "markdown",
   "metadata": {},
   "source": [
    "##### 2.2.5 Email provider\n",
    "Different email providers are associated with different levels of adopted users (see graph below, $\\chi^2$ = 39.12, $p$ < 0.005). Hotmail users are most likely to be adopted users."
   ]
  },
  {
   "cell_type": "code",
   "execution_count": 163,
   "metadata": {
    "scrolled": true
   },
   "outputs": [
    {
     "data": {
      "image/png": "[encoded data removed]",
      "text/plain": [
       "<Figure size 432x288 with 3 Axes>"
      ]
     },
     "metadata": {
      "needs_background": "light"
     },
     "output_type": "display_data"
    },
    {
     "name": "stdout",
     "output_type": "stream",
     "text": [
      "The χ-sq statistic was 39.12 with p = 0.0000007\n"
     ]
    }
   ],
   "source": [
    "ct = pd.crosstab(df['email_provider'], df['adopted_user'])\n",
    "ct.columns = ['not user','adopted user']\n",
    "mosaic(ct.stack(), labelizer = lambda x: \"\", gap=[0.01, 0.005],\n",
    "       title='Proportion of email provider by adopted user status', label_rotation=90)\n",
    "plt.show()\n",
    "\n",
    "chisq, p, dof, efs = chi2_contingency(ct)\n",
    "print('The \\u03C7-sq statistic was {:.2f} with p = {:.7f}'.format(chisq, p))"
   ]
  },
  {
   "cell_type": "markdown",
   "metadata": {},
   "source": [
    "##### 2.2.6 Creation date\n",
    "Do a violin plot by type"
   ]
  },
  {
   "cell_type": "code",
   "execution_count": null,
   "metadata": {},
   "outputs": [],
   "source": []
  },
  {
   "cell_type": "markdown",
   "metadata": {},
   "source": [
    "##### 2.2.7 Last used date\n",
    "Do a violin plot by type"
   ]
  },
  {
   "cell_type": "code",
   "execution_count": 252,
   "metadata": {},
   "outputs": [
    {
     "data": {
      "text/html": [
       "<div>\n",
       "<style scoped>\n",
       "    .dataframe tbody tr th:only-of-type {\n",
       "        vertical-align: middle;\n",
       "    }\n",
       "\n",
       "    .dataframe tbody tr th {\n",
       "        vertical-align: top;\n",
       "    }\n",
       "\n",
       "    .dataframe thead th {\n",
       "        text-align: right;\n",
       "    }\n",
       "</style>\n",
       "<table border=\"1\" class=\"dataframe\">\n",
       "  <thead>\n",
       "    <tr style=\"text-align: right;\">\n",
       "      <th></th>\n",
       "      <th>object_id</th>\n",
       "      <th>email</th>\n",
       "      <th>creation_source</th>\n",
       "      <th>opted_in_to_mailing_list</th>\n",
       "      <th>enabled_for_marketing_drip</th>\n",
       "      <th>org_id</th>\n",
       "      <th>invited_by_user_id</th>\n",
       "      <th>creation_date</th>\n",
       "      <th>last_session_date</th>\n",
       "    </tr>\n",
       "  </thead>\n",
       "  <tbody>\n",
       "    <tr>\n",
       "      <th>11965</th>\n",
       "      <td>11966</td>\n",
       "      <td>LuanaAzevedoFerreira@gmail.com</td>\n",
       "      <td>PERSONAL_PROJECTS</td>\n",
       "      <td>0</td>\n",
       "      <td>0</td>\n",
       "      <td>39</td>\n",
       "      <td>NaN</td>\n",
       "      <td>2013-01-01</td>\n",
       "      <td>NaT</td>\n",
       "    </tr>\n",
       "    <tr>\n",
       "      <th>11966</th>\n",
       "      <td>11967</td>\n",
       "      <td>PedroFernandesBarbosa@gmail.com</td>\n",
       "      <td>GUEST_INVITE</td>\n",
       "      <td>0</td>\n",
       "      <td>0</td>\n",
       "      <td>15</td>\n",
       "      <td>5688.0</td>\n",
       "      <td>2014-01-12</td>\n",
       "      <td>2014-05-31</td>\n",
       "    </tr>\n",
       "    <tr>\n",
       "      <th>11967</th>\n",
       "      <td>11968</td>\n",
       "      <td>MarcusMThorsen@gmail.com</td>\n",
       "      <td>SIGNUP_GOOGLE_AUTH</td>\n",
       "      <td>1</td>\n",
       "      <td>1</td>\n",
       "      <td>273</td>\n",
       "      <td>NaN</td>\n",
       "      <td>2013-04-01</td>\n",
       "      <td>2013-04-06</td>\n",
       "    </tr>\n",
       "    <tr>\n",
       "      <th>11968</th>\n",
       "      <td>11969</td>\n",
       "      <td>AidanDickinson@hotmail.com</td>\n",
       "      <td>GUEST_INVITE</td>\n",
       "      <td>1</td>\n",
       "      <td>1</td>\n",
       "      <td>52</td>\n",
       "      <td>6647.0</td>\n",
       "      <td>2013-06-01</td>\n",
       "      <td>2014-05-30</td>\n",
       "    </tr>\n",
       "    <tr>\n",
       "      <th>11969</th>\n",
       "      <td>11970</td>\n",
       "      <td>BrookeBartlett@gmail.com</td>\n",
       "      <td>SIGNUP</td>\n",
       "      <td>0</td>\n",
       "      <td>0</td>\n",
       "      <td>126</td>\n",
       "      <td>NaN</td>\n",
       "      <td>2013-10-19</td>\n",
       "      <td>NaT</td>\n",
       "    </tr>\n",
       "  </tbody>\n",
       "</table>\n",
       "</div>"
      ],
      "text/plain": [
       "       object_id                            email     creation_source  \\\n",
       "11965      11966   LuanaAzevedoFerreira@gmail.com   PERSONAL_PROJECTS   \n",
       "11966      11967  PedroFernandesBarbosa@gmail.com        GUEST_INVITE   \n",
       "11967      11968         MarcusMThorsen@gmail.com  SIGNUP_GOOGLE_AUTH   \n",
       "11968      11969       AidanDickinson@hotmail.com        GUEST_INVITE   \n",
       "11969      11970         BrookeBartlett@gmail.com              SIGNUP   \n",
       "\n",
       "       opted_in_to_mailing_list  enabled_for_marketing_drip  org_id  \\\n",
       "11965                         0                           0      39   \n",
       "11966                         0                           0      15   \n",
       "11967                         1                           1     273   \n",
       "11968                         1                           1      52   \n",
       "11969                         0                           0     126   \n",
       "\n",
       "       invited_by_user_id creation_date last_session_date  \n",
       "11965                 NaN    2013-01-01               NaT  \n",
       "11966              5688.0    2014-01-12        2014-05-31  \n",
       "11967                 NaN    2013-04-01        2013-04-06  \n",
       "11968              6647.0    2013-06-01        2014-05-30  \n",
       "11969                 NaN    2013-10-19               NaT  "
      ]
     },
     "execution_count": 252,
     "metadata": {},
     "output_type": "execute_result"
    }
   ],
   "source": [
    "df_profiles.iloc[11965:11970,:]"
   ]
  },
  {
   "cell_type": "code",
   "execution_count": 253,
   "metadata": {},
   "outputs": [
    {
     "data": {
      "text/html": [
       "<div>\n",
       "<style scoped>\n",
       "    .dataframe tbody tr th:only-of-type {\n",
       "        vertical-align: middle;\n",
       "    }\n",
       "\n",
       "    .dataframe tbody tr th {\n",
       "        vertical-align: top;\n",
       "    }\n",
       "\n",
       "    .dataframe thead th {\n",
       "        text-align: right;\n",
       "    }\n",
       "</style>\n",
       "<table border=\"1\" class=\"dataframe\">\n",
       "  <thead>\n",
       "    <tr style=\"text-align: right;\">\n",
       "      <th></th>\n",
       "      <th>adopted_user</th>\n",
       "      <th>email</th>\n",
       "      <th>creation_source</th>\n",
       "      <th>opted_in_to_mailing_list</th>\n",
       "      <th>enabled_for_marketing_drip</th>\n",
       "      <th>org_id</th>\n",
       "      <th>invited_by_user_id</th>\n",
       "      <th>creation_date</th>\n",
       "      <th>last_session_date</th>\n",
       "      <th>adoption_date</th>\n",
       "      <th>time_to_adopt</th>\n",
       "      <th>email_provider</th>\n",
       "      <th>invited_by_user_id_ind</th>\n",
       "      <th>creation_labels</th>\n",
       "      <th>email_labels</th>\n",
       "      <th>invited_by_user__ind</th>\n",
       "      <th>invited_by_user_ind</th>\n",
       "    </tr>\n",
       "    <tr>\n",
       "      <th>user_id</th>\n",
       "      <th></th>\n",
       "      <th></th>\n",
       "      <th></th>\n",
       "      <th></th>\n",
       "      <th></th>\n",
       "      <th></th>\n",
       "      <th></th>\n",
       "      <th></th>\n",
       "      <th></th>\n",
       "      <th></th>\n",
       "      <th></th>\n",
       "      <th></th>\n",
       "      <th></th>\n",
       "      <th></th>\n",
       "      <th></th>\n",
       "      <th></th>\n",
       "      <th></th>\n",
       "    </tr>\n",
       "  </thead>\n",
       "  <tbody>\n",
       "  </tbody>\n",
       "</table>\n",
       "</div>"
      ],
      "text/plain": [
       "Empty DataFrame\n",
       "Columns: [adopted_user, email, creation_source, opted_in_to_mailing_list, enabled_for_marketing_drip, org_id, invited_by_user_id, creation_date, last_session_date, adoption_date, time_to_adopt, email_provider, invited_by_user_id_ind, creation_labels, email_labels, invited_by_user__ind, invited_by_user_ind]\n",
       "Index: []"
      ]
     },
     "execution_count": 253,
     "metadata": {},
     "output_type": "execute_result"
    }
   ],
   "source": [
    "df.iloc[11965:11970,:]"
   ]
  },
  {
   "cell_type": "code",
   "execution_count": 265,
   "metadata": {},
   "outputs": [
    {
     "data": {
      "text/html": [
       "<div>\n",
       "<style scoped>\n",
       "    .dataframe tbody tr th:only-of-type {\n",
       "        vertical-align: middle;\n",
       "    }\n",
       "\n",
       "    .dataframe tbody tr th {\n",
       "        vertical-align: top;\n",
       "    }\n",
       "\n",
       "    .dataframe thead th {\n",
       "        text-align: right;\n",
       "    }\n",
       "</style>\n",
       "<table border=\"1\" class=\"dataframe\">\n",
       "  <thead>\n",
       "    <tr style=\"text-align: right;\">\n",
       "      <th></th>\n",
       "      <th>user_id</th>\n",
       "      <th>visited</th>\n",
       "      <th>date_visited</th>\n",
       "    </tr>\n",
       "  </thead>\n",
       "  <tbody>\n",
       "    <tr>\n",
       "      <th>207506</th>\n",
       "      <td>11969</td>\n",
       "      <td>1</td>\n",
       "      <td>2013-06-01</td>\n",
       "    </tr>\n",
       "    <tr>\n",
       "      <th>207507</th>\n",
       "      <td>11969</td>\n",
       "      <td>1</td>\n",
       "      <td>2013-06-02</td>\n",
       "    </tr>\n",
       "    <tr>\n",
       "      <th>207508</th>\n",
       "      <td>11969</td>\n",
       "      <td>1</td>\n",
       "      <td>2013-06-03</td>\n",
       "    </tr>\n",
       "    <tr>\n",
       "      <th>207509</th>\n",
       "      <td>11969</td>\n",
       "      <td>1</td>\n",
       "      <td>2013-06-13</td>\n",
       "    </tr>\n",
       "    <tr>\n",
       "      <th>207510</th>\n",
       "      <td>11969</td>\n",
       "      <td>1</td>\n",
       "      <td>2013-06-17</td>\n",
       "    </tr>\n",
       "    <tr>\n",
       "      <th>207511</th>\n",
       "      <td>11969</td>\n",
       "      <td>1</td>\n",
       "      <td>2013-07-04</td>\n",
       "    </tr>\n",
       "    <tr>\n",
       "      <th>207512</th>\n",
       "      <td>11969</td>\n",
       "      <td>1</td>\n",
       "      <td>2013-07-10</td>\n",
       "    </tr>\n",
       "    <tr>\n",
       "      <th>207513</th>\n",
       "      <td>11969</td>\n",
       "      <td>1</td>\n",
       "      <td>2013-07-20</td>\n",
       "    </tr>\n",
       "    <tr>\n",
       "      <th>207514</th>\n",
       "      <td>11969</td>\n",
       "      <td>1</td>\n",
       "      <td>2013-07-24</td>\n",
       "    </tr>\n",
       "    <tr>\n",
       "      <th>207515</th>\n",
       "      <td>11969</td>\n",
       "      <td>1</td>\n",
       "      <td>2013-07-27</td>\n",
       "    </tr>\n",
       "    <tr>\n",
       "      <th>207516</th>\n",
       "      <td>11969</td>\n",
       "      <td>1</td>\n",
       "      <td>2013-08-25</td>\n",
       "    </tr>\n",
       "    <tr>\n",
       "      <th>207517</th>\n",
       "      <td>11969</td>\n",
       "      <td>1</td>\n",
       "      <td>2013-08-28</td>\n",
       "    </tr>\n",
       "    <tr>\n",
       "      <th>207518</th>\n",
       "      <td>11969</td>\n",
       "      <td>1</td>\n",
       "      <td>2013-09-02</td>\n",
       "    </tr>\n",
       "    <tr>\n",
       "      <th>207519</th>\n",
       "      <td>11969</td>\n",
       "      <td>1</td>\n",
       "      <td>2013-09-03</td>\n",
       "    </tr>\n",
       "    <tr>\n",
       "      <th>207520</th>\n",
       "      <td>11969</td>\n",
       "      <td>1</td>\n",
       "      <td>2013-09-15</td>\n",
       "    </tr>\n",
       "    <tr>\n",
       "      <th>207521</th>\n",
       "      <td>11969</td>\n",
       "      <td>1</td>\n",
       "      <td>2013-09-22</td>\n",
       "    </tr>\n",
       "    <tr>\n",
       "      <th>207522</th>\n",
       "      <td>11969</td>\n",
       "      <td>1</td>\n",
       "      <td>2013-09-28</td>\n",
       "    </tr>\n",
       "    <tr>\n",
       "      <th>207523</th>\n",
       "      <td>11969</td>\n",
       "      <td>1</td>\n",
       "      <td>2013-10-05</td>\n",
       "    </tr>\n",
       "    <tr>\n",
       "      <th>207524</th>\n",
       "      <td>11969</td>\n",
       "      <td>1</td>\n",
       "      <td>2013-10-14</td>\n",
       "    </tr>\n",
       "    <tr>\n",
       "      <th>207525</th>\n",
       "      <td>11969</td>\n",
       "      <td>1</td>\n",
       "      <td>2013-10-16</td>\n",
       "    </tr>\n",
       "    <tr>\n",
       "      <th>207526</th>\n",
       "      <td>11969</td>\n",
       "      <td>1</td>\n",
       "      <td>2013-10-19</td>\n",
       "    </tr>\n",
       "    <tr>\n",
       "      <th>207527</th>\n",
       "      <td>11969</td>\n",
       "      <td>1</td>\n",
       "      <td>2013-10-20</td>\n",
       "    </tr>\n",
       "    <tr>\n",
       "      <th>207528</th>\n",
       "      <td>11969</td>\n",
       "      <td>1</td>\n",
       "      <td>2013-10-22</td>\n",
       "    </tr>\n",
       "    <tr>\n",
       "      <th>207529</th>\n",
       "      <td>11969</td>\n",
       "      <td>1</td>\n",
       "      <td>2013-10-25</td>\n",
       "    </tr>\n",
       "    <tr>\n",
       "      <th>207530</th>\n",
       "      <td>11969</td>\n",
       "      <td>1</td>\n",
       "      <td>2013-10-28</td>\n",
       "    </tr>\n",
       "    <tr>\n",
       "      <th>207531</th>\n",
       "      <td>11969</td>\n",
       "      <td>1</td>\n",
       "      <td>2013-11-07</td>\n",
       "    </tr>\n",
       "    <tr>\n",
       "      <th>207532</th>\n",
       "      <td>11969</td>\n",
       "      <td>1</td>\n",
       "      <td>2013-11-11</td>\n",
       "    </tr>\n",
       "    <tr>\n",
       "      <th>207533</th>\n",
       "      <td>11969</td>\n",
       "      <td>1</td>\n",
       "      <td>2013-11-18</td>\n",
       "    </tr>\n",
       "    <tr>\n",
       "      <th>207534</th>\n",
       "      <td>11969</td>\n",
       "      <td>1</td>\n",
       "      <td>2013-11-19</td>\n",
       "    </tr>\n",
       "    <tr>\n",
       "      <th>207535</th>\n",
       "      <td>11969</td>\n",
       "      <td>1</td>\n",
       "      <td>2013-12-08</td>\n",
       "    </tr>\n",
       "    <tr>\n",
       "      <th>...</th>\n",
       "      <td>...</td>\n",
       "      <td>...</td>\n",
       "      <td>...</td>\n",
       "    </tr>\n",
       "    <tr>\n",
       "      <th>207607</th>\n",
       "      <td>11969</td>\n",
       "      <td>1</td>\n",
       "      <td>2014-04-15</td>\n",
       "    </tr>\n",
       "    <tr>\n",
       "      <th>207608</th>\n",
       "      <td>11969</td>\n",
       "      <td>1</td>\n",
       "      <td>2014-04-16</td>\n",
       "    </tr>\n",
       "    <tr>\n",
       "      <th>207609</th>\n",
       "      <td>11969</td>\n",
       "      <td>1</td>\n",
       "      <td>2014-04-18</td>\n",
       "    </tr>\n",
       "    <tr>\n",
       "      <th>207610</th>\n",
       "      <td>11969</td>\n",
       "      <td>1</td>\n",
       "      <td>2014-04-21</td>\n",
       "    </tr>\n",
       "    <tr>\n",
       "      <th>207611</th>\n",
       "      <td>11969</td>\n",
       "      <td>1</td>\n",
       "      <td>2014-04-22</td>\n",
       "    </tr>\n",
       "    <tr>\n",
       "      <th>207612</th>\n",
       "      <td>11969</td>\n",
       "      <td>1</td>\n",
       "      <td>2014-04-24</td>\n",
       "    </tr>\n",
       "    <tr>\n",
       "      <th>207613</th>\n",
       "      <td>11969</td>\n",
       "      <td>1</td>\n",
       "      <td>2014-04-25</td>\n",
       "    </tr>\n",
       "    <tr>\n",
       "      <th>207614</th>\n",
       "      <td>11969</td>\n",
       "      <td>1</td>\n",
       "      <td>2014-04-27</td>\n",
       "    </tr>\n",
       "    <tr>\n",
       "      <th>207615</th>\n",
       "      <td>11969</td>\n",
       "      <td>1</td>\n",
       "      <td>2014-04-28</td>\n",
       "    </tr>\n",
       "    <tr>\n",
       "      <th>207616</th>\n",
       "      <td>11969</td>\n",
       "      <td>1</td>\n",
       "      <td>2014-05-01</td>\n",
       "    </tr>\n",
       "    <tr>\n",
       "      <th>207617</th>\n",
       "      <td>11969</td>\n",
       "      <td>1</td>\n",
       "      <td>2014-05-03</td>\n",
       "    </tr>\n",
       "    <tr>\n",
       "      <th>207618</th>\n",
       "      <td>11969</td>\n",
       "      <td>1</td>\n",
       "      <td>2014-05-04</td>\n",
       "    </tr>\n",
       "    <tr>\n",
       "      <th>207619</th>\n",
       "      <td>11969</td>\n",
       "      <td>1</td>\n",
       "      <td>2014-05-05</td>\n",
       "    </tr>\n",
       "    <tr>\n",
       "      <th>207620</th>\n",
       "      <td>11969</td>\n",
       "      <td>1</td>\n",
       "      <td>2014-05-07</td>\n",
       "    </tr>\n",
       "    <tr>\n",
       "      <th>207621</th>\n",
       "      <td>11969</td>\n",
       "      <td>1</td>\n",
       "      <td>2014-05-09</td>\n",
       "    </tr>\n",
       "    <tr>\n",
       "      <th>207622</th>\n",
       "      <td>11969</td>\n",
       "      <td>1</td>\n",
       "      <td>2014-05-11</td>\n",
       "    </tr>\n",
       "    <tr>\n",
       "      <th>207623</th>\n",
       "      <td>11969</td>\n",
       "      <td>1</td>\n",
       "      <td>2014-05-12</td>\n",
       "    </tr>\n",
       "    <tr>\n",
       "      <th>207624</th>\n",
       "      <td>11969</td>\n",
       "      <td>1</td>\n",
       "      <td>2014-05-13</td>\n",
       "    </tr>\n",
       "    <tr>\n",
       "      <th>207625</th>\n",
       "      <td>11969</td>\n",
       "      <td>1</td>\n",
       "      <td>2014-05-14</td>\n",
       "    </tr>\n",
       "    <tr>\n",
       "      <th>207626</th>\n",
       "      <td>11969</td>\n",
       "      <td>1</td>\n",
       "      <td>2014-05-16</td>\n",
       "    </tr>\n",
       "    <tr>\n",
       "      <th>207627</th>\n",
       "      <td>11969</td>\n",
       "      <td>1</td>\n",
       "      <td>2014-05-18</td>\n",
       "    </tr>\n",
       "    <tr>\n",
       "      <th>207628</th>\n",
       "      <td>11969</td>\n",
       "      <td>1</td>\n",
       "      <td>2014-05-19</td>\n",
       "    </tr>\n",
       "    <tr>\n",
       "      <th>207629</th>\n",
       "      <td>11969</td>\n",
       "      <td>1</td>\n",
       "      <td>2014-05-23</td>\n",
       "    </tr>\n",
       "    <tr>\n",
       "      <th>207630</th>\n",
       "      <td>11969</td>\n",
       "      <td>1</td>\n",
       "      <td>2014-05-24</td>\n",
       "    </tr>\n",
       "    <tr>\n",
       "      <th>207631</th>\n",
       "      <td>11969</td>\n",
       "      <td>1</td>\n",
       "      <td>2014-05-25</td>\n",
       "    </tr>\n",
       "    <tr>\n",
       "      <th>207632</th>\n",
       "      <td>11969</td>\n",
       "      <td>1</td>\n",
       "      <td>2014-05-26</td>\n",
       "    </tr>\n",
       "    <tr>\n",
       "      <th>207633</th>\n",
       "      <td>11969</td>\n",
       "      <td>1</td>\n",
       "      <td>2014-05-27</td>\n",
       "    </tr>\n",
       "    <tr>\n",
       "      <th>207634</th>\n",
       "      <td>11969</td>\n",
       "      <td>1</td>\n",
       "      <td>2014-05-28</td>\n",
       "    </tr>\n",
       "    <tr>\n",
       "      <th>207635</th>\n",
       "      <td>11969</td>\n",
       "      <td>1</td>\n",
       "      <td>2014-05-29</td>\n",
       "    </tr>\n",
       "    <tr>\n",
       "      <th>207636</th>\n",
       "      <td>11969</td>\n",
       "      <td>1</td>\n",
       "      <td>2014-05-30</td>\n",
       "    </tr>\n",
       "  </tbody>\n",
       "</table>\n",
       "<p>131 rows × 3 columns</p>\n",
       "</div>"
      ],
      "text/plain": [
       "        user_id  visited date_visited\n",
       "207506    11969        1   2013-06-01\n",
       "207507    11969        1   2013-06-02\n",
       "207508    11969        1   2013-06-03\n",
       "207509    11969        1   2013-06-13\n",
       "207510    11969        1   2013-06-17\n",
       "207511    11969        1   2013-07-04\n",
       "207512    11969        1   2013-07-10\n",
       "207513    11969        1   2013-07-20\n",
       "207514    11969        1   2013-07-24\n",
       "207515    11969        1   2013-07-27\n",
       "207516    11969        1   2013-08-25\n",
       "207517    11969        1   2013-08-28\n",
       "207518    11969        1   2013-09-02\n",
       "207519    11969        1   2013-09-03\n",
       "207520    11969        1   2013-09-15\n",
       "207521    11969        1   2013-09-22\n",
       "207522    11969        1   2013-09-28\n",
       "207523    11969        1   2013-10-05\n",
       "207524    11969        1   2013-10-14\n",
       "207525    11969        1   2013-10-16\n",
       "207526    11969        1   2013-10-19\n",
       "207527    11969        1   2013-10-20\n",
       "207528    11969        1   2013-10-22\n",
       "207529    11969        1   2013-10-25\n",
       "207530    11969        1   2013-10-28\n",
       "207531    11969        1   2013-11-07\n",
       "207532    11969        1   2013-11-11\n",
       "207533    11969        1   2013-11-18\n",
       "207534    11969        1   2013-11-19\n",
       "207535    11969        1   2013-12-08\n",
       "...         ...      ...          ...\n",
       "207607    11969        1   2014-04-15\n",
       "207608    11969        1   2014-04-16\n",
       "207609    11969        1   2014-04-18\n",
       "207610    11969        1   2014-04-21\n",
       "207611    11969        1   2014-04-22\n",
       "207612    11969        1   2014-04-24\n",
       "207613    11969        1   2014-04-25\n",
       "207614    11969        1   2014-04-27\n",
       "207615    11969        1   2014-04-28\n",
       "207616    11969        1   2014-05-01\n",
       "207617    11969        1   2014-05-03\n",
       "207618    11969        1   2014-05-04\n",
       "207619    11969        1   2014-05-05\n",
       "207620    11969        1   2014-05-07\n",
       "207621    11969        1   2014-05-09\n",
       "207622    11969        1   2014-05-11\n",
       "207623    11969        1   2014-05-12\n",
       "207624    11969        1   2014-05-13\n",
       "207625    11969        1   2014-05-14\n",
       "207626    11969        1   2014-05-16\n",
       "207627    11969        1   2014-05-18\n",
       "207628    11969        1   2014-05-19\n",
       "207629    11969        1   2014-05-23\n",
       "207630    11969        1   2014-05-24\n",
       "207631    11969        1   2014-05-25\n",
       "207632    11969        1   2014-05-26\n",
       "207633    11969        1   2014-05-27\n",
       "207634    11969        1   2014-05-28\n",
       "207635    11969        1   2014-05-29\n",
       "207636    11969        1   2014-05-30\n",
       "\n",
       "[131 rows x 3 columns]"
      ]
     },
     "execution_count": 265,
     "metadata": {},
     "output_type": "execute_result"
    }
   ],
   "source": [
    "df_engagement[df_engagement.user_id == 11969]"
   ]
  },
  {
   "cell_type": "code",
   "execution_count": null,
   "metadata": {},
   "outputs": [],
   "source": []
  }
 ],
 "metadata": {
  "kernelspec": {
   "display_name": "Python 3",
   "language": "python",
   "name": "python3"
  },
  "language_info": {
   "codemirror_mode": {
    "name": "ipython",
    "version": 3
   },
   "file_extension": ".py",
   "mimetype": "text/x-python",
   "name": "python",
   "nbconvert_exporter": "python",
   "pygments_lexer": "ipython3",
   "version": "3.7.3"
  }
 },
 "nbformat": 4,
 "nbformat_minor": 2
}
